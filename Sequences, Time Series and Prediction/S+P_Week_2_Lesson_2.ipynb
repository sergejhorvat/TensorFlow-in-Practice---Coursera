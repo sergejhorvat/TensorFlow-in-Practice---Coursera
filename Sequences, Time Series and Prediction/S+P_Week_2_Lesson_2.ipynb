{
  "nbformat": 4,
  "nbformat_minor": 0,
  "metadata": {
    "colab": {
      "name": "S+P Week 2 Lesson 2.ipynb",
      "provenance": [],
      "include_colab_link": true
    },
    "kernelspec": {
      "name": "python3",
      "display_name": "Python 3"
    }
  },
  "cells": [
    {
      "cell_type": "markdown",
      "metadata": {
        "id": "view-in-github",
        "colab_type": "text"
      },
      "source": [
        "<a href=\"https://colab.research.google.com/github/sergejhorvat/TensorFlow-in-Practice---Coursera/blob/master/Sequences%2C%20Time%20Series%20and%20Prediction/S%2BP_Week_2_Lesson_2.ipynb\" target=\"_parent\"><img src=\"https://colab.research.google.com/assets/colab-badge.svg\" alt=\"Open In Colab\"/></a>"
      ]
    },
    {
      "cell_type": "code",
      "metadata": {
        "id": "D1J15Vh_1Jih",
        "colab_type": "code",
        "colab": {
          "base_uri": "https://localhost:8080/",
          "height": 661
        },
        "outputId": "c65a1ced-c6e3-4aae-b05c-bc27ee4c6ec9"
      },
      "source": [
        "#!pip install tf-nightly-2.0-preview\n",
        "!pip install tensorflow-gpu==2.0.0\n"
      ],
      "execution_count": 1,
      "outputs": [
        {
          "output_type": "stream",
          "text": [
            "Requirement already satisfied: tensorflow-gpu==2.0.0 in /usr/local/lib/python3.6/dist-packages (2.0.0)\n",
            "Requirement already satisfied: wheel>=0.26 in /usr/local/lib/python3.6/dist-packages (from tensorflow-gpu==2.0.0) (0.33.6)\n",
            "Requirement already satisfied: astor>=0.6.0 in /usr/local/lib/python3.6/dist-packages (from tensorflow-gpu==2.0.0) (0.8.1)\n",
            "Requirement already satisfied: keras-preprocessing>=1.0.5 in /usr/local/lib/python3.6/dist-packages (from tensorflow-gpu==2.0.0) (1.1.0)\n",
            "Requirement already satisfied: keras-applications>=1.0.8 in /usr/local/lib/python3.6/dist-packages (from tensorflow-gpu==2.0.0) (1.0.8)\n",
            "Requirement already satisfied: six>=1.10.0 in /usr/local/lib/python3.6/dist-packages (from tensorflow-gpu==2.0.0) (1.12.0)\n",
            "Requirement already satisfied: termcolor>=1.1.0 in /usr/local/lib/python3.6/dist-packages (from tensorflow-gpu==2.0.0) (1.1.0)\n",
            "Requirement already satisfied: google-pasta>=0.1.6 in /usr/local/lib/python3.6/dist-packages (from tensorflow-gpu==2.0.0) (0.1.8)\n",
            "Requirement already satisfied: absl-py>=0.7.0 in /usr/local/lib/python3.6/dist-packages (from tensorflow-gpu==2.0.0) (0.8.1)\n",
            "Requirement already satisfied: numpy<2.0,>=1.16.0 in /usr/local/lib/python3.6/dist-packages (from tensorflow-gpu==2.0.0) (1.17.4)\n",
            "Requirement already satisfied: tensorflow-estimator<2.1.0,>=2.0.0 in /usr/local/lib/python3.6/dist-packages (from tensorflow-gpu==2.0.0) (2.0.1)\n",
            "Requirement already satisfied: wrapt>=1.11.1 in /usr/local/lib/python3.6/dist-packages (from tensorflow-gpu==2.0.0) (1.11.2)\n",
            "Requirement already satisfied: protobuf>=3.6.1 in /usr/local/lib/python3.6/dist-packages (from tensorflow-gpu==2.0.0) (3.10.0)\n",
            "Requirement already satisfied: opt-einsum>=2.3.2 in /usr/local/lib/python3.6/dist-packages (from tensorflow-gpu==2.0.0) (3.1.0)\n",
            "Requirement already satisfied: tensorboard<2.1.0,>=2.0.0 in /usr/local/lib/python3.6/dist-packages (from tensorflow-gpu==2.0.0) (2.0.2)\n",
            "Requirement already satisfied: gast==0.2.2 in /usr/local/lib/python3.6/dist-packages (from tensorflow-gpu==2.0.0) (0.2.2)\n",
            "Requirement already satisfied: grpcio>=1.8.6 in /usr/local/lib/python3.6/dist-packages (from tensorflow-gpu==2.0.0) (1.15.0)\n",
            "Requirement already satisfied: h5py in /usr/local/lib/python3.6/dist-packages (from keras-applications>=1.0.8->tensorflow-gpu==2.0.0) (2.8.0)\n",
            "Requirement already satisfied: setuptools in /usr/local/lib/python3.6/dist-packages (from protobuf>=3.6.1->tensorflow-gpu==2.0.0) (42.0.2)\n",
            "Requirement already satisfied: google-auth-oauthlib<0.5,>=0.4.1 in /usr/local/lib/python3.6/dist-packages (from tensorboard<2.1.0,>=2.0.0->tensorflow-gpu==2.0.0) (0.4.1)\n",
            "Requirement already satisfied: requests<3,>=2.21.0 in /usr/local/lib/python3.6/dist-packages (from tensorboard<2.1.0,>=2.0.0->tensorflow-gpu==2.0.0) (2.21.0)\n",
            "Requirement already satisfied: werkzeug>=0.11.15 in /usr/local/lib/python3.6/dist-packages (from tensorboard<2.1.0,>=2.0.0->tensorflow-gpu==2.0.0) (0.16.0)\n",
            "Requirement already satisfied: google-auth<2,>=1.6.3 in /usr/local/lib/python3.6/dist-packages (from tensorboard<2.1.0,>=2.0.0->tensorflow-gpu==2.0.0) (1.10.0)\n",
            "Requirement already satisfied: markdown>=2.6.8 in /usr/local/lib/python3.6/dist-packages (from tensorboard<2.1.0,>=2.0.0->tensorflow-gpu==2.0.0) (3.1.1)\n",
            "Requirement already satisfied: requests-oauthlib>=0.7.0 in /usr/local/lib/python3.6/dist-packages (from google-auth-oauthlib<0.5,>=0.4.1->tensorboard<2.1.0,>=2.0.0->tensorflow-gpu==2.0.0) (1.3.0)\n",
            "Requirement already satisfied: urllib3<1.25,>=1.21.1 in /usr/local/lib/python3.6/dist-packages (from requests<3,>=2.21.0->tensorboard<2.1.0,>=2.0.0->tensorflow-gpu==2.0.0) (1.24.3)\n",
            "Requirement already satisfied: chardet<3.1.0,>=3.0.2 in /usr/local/lib/python3.6/dist-packages (from requests<3,>=2.21.0->tensorboard<2.1.0,>=2.0.0->tensorflow-gpu==2.0.0) (3.0.4)\n",
            "Requirement already satisfied: idna<2.9,>=2.5 in /usr/local/lib/python3.6/dist-packages (from requests<3,>=2.21.0->tensorboard<2.1.0,>=2.0.0->tensorflow-gpu==2.0.0) (2.8)\n",
            "Requirement already satisfied: certifi>=2017.4.17 in /usr/local/lib/python3.6/dist-packages (from requests<3,>=2.21.0->tensorboard<2.1.0,>=2.0.0->tensorflow-gpu==2.0.0) (2019.11.28)\n",
            "Requirement already satisfied: pyasn1-modules>=0.2.1 in /usr/local/lib/python3.6/dist-packages (from google-auth<2,>=1.6.3->tensorboard<2.1.0,>=2.0.0->tensorflow-gpu==2.0.0) (0.2.7)\n",
            "Requirement already satisfied: rsa<4.1,>=3.1.4 in /usr/local/lib/python3.6/dist-packages (from google-auth<2,>=1.6.3->tensorboard<2.1.0,>=2.0.0->tensorflow-gpu==2.0.0) (4.0)\n",
            "Requirement already satisfied: cachetools<5.0,>=2.0.0 in /usr/local/lib/python3.6/dist-packages (from google-auth<2,>=1.6.3->tensorboard<2.1.0,>=2.0.0->tensorflow-gpu==2.0.0) (4.0.0)\n",
            "Requirement already satisfied: oauthlib>=3.0.0 in /usr/local/lib/python3.6/dist-packages (from requests-oauthlib>=0.7.0->google-auth-oauthlib<0.5,>=0.4.1->tensorboard<2.1.0,>=2.0.0->tensorflow-gpu==2.0.0) (3.1.0)\n",
            "Requirement already satisfied: pyasn1<0.5.0,>=0.4.6 in /usr/local/lib/python3.6/dist-packages (from pyasn1-modules>=0.2.1->google-auth<2,>=1.6.3->tensorboard<2.1.0,>=2.0.0->tensorflow-gpu==2.0.0) (0.4.8)\n"
          ],
          "name": "stdout"
        }
      ]
    },
    {
      "cell_type": "code",
      "metadata": {
        "id": "BOjujz601HcS",
        "colab_type": "code",
        "outputId": "ef9ad48c-d58a-4415-8fff-1884cfa73915",
        "colab": {
          "base_uri": "https://localhost:8080/",
          "height": 35
        }
      },
      "source": [
        "import tensorflow as tf\n",
        "import numpy as np\n",
        "import matplotlib.pyplot as plt\n",
        "print(tf.__version__)"
      ],
      "execution_count": 2,
      "outputs": [
        {
          "output_type": "stream",
          "text": [
            "2.0.0\n"
          ],
          "name": "stdout"
        }
      ]
    },
    {
      "cell_type": "code",
      "metadata": {
        "colab_type": "code",
        "id": "Zswl7jRtGzkk",
        "colab": {}
      },
      "source": [
        "def plot_series(time, series, format=\"-\", start=0, end=None):\n",
        "    plt.plot(time[start:end], series[start:end], format)\n",
        "    plt.xlabel(\"Time\")\n",
        "    plt.ylabel(\"Value\")\n",
        "    plt.grid(True)\n",
        "\n",
        "def trend(time, slope=0):\n",
        "    return slope * time\n",
        "\n",
        "def seasonal_pattern(season_time):\n",
        "    \"\"\"Just an arbitrary pattern, you can change it if you wish\"\"\"\n",
        "    return np.where(season_time < 0.4,\n",
        "                    np.cos(season_time * 2 * np.pi),\n",
        "                    1 / np.exp(3 * season_time))\n",
        "\n",
        "def seasonality(time, period, amplitude=1, phase=0):\n",
        "    \"\"\"Repeats the same pattern at each period\"\"\"\n",
        "    season_time = ((time + phase) % period) / period\n",
        "    return amplitude * seasonal_pattern(season_time)\n",
        "\n",
        "def noise(time, noise_level=1, seed=None):\n",
        "    rnd = np.random.RandomState(seed)\n",
        "    return rnd.randn(len(time)) * noise_level\n",
        "\n",
        "time = np.arange(4 * 365 + 1, dtype=\"float32\")\n",
        "baseline = 10\n",
        "series = trend(time, 0.1)  \n",
        "baseline = 10\n",
        "amplitude = 40\n",
        "slope = 0.05\n",
        "noise_level = 5\n",
        "\n",
        "# Create the series\n",
        "series = baseline + trend(time, slope) + seasonality(time, period=365, amplitude=amplitude)\n",
        "# Update with noise\n",
        "series += noise(time, noise_level, seed=42)\n",
        "\n",
        "split_time = 1000\n",
        "time_train = time[:split_time]\n",
        "x_train = series[:split_time]\n",
        "time_valid = time[split_time:]\n",
        "x_valid = series[split_time:]\n",
        "\n",
        "window_size = 20\n",
        "batch_size = 32\n",
        "shuffle_buffer_size = 1000"
      ],
      "execution_count": 0,
      "outputs": []
    },
    {
      "cell_type": "code",
      "metadata": {
        "id": "4sTTIOCbyShY",
        "colab_type": "code",
        "colab": {}
      },
      "source": [
        "def windowed_dataset(series, window_size, batch_size, shuffle_buffer):\n",
        "  dataset = tf.data.Dataset.from_tensor_slices(series)\n",
        "  dataset = dataset.window(window_size + 1, shift=1, drop_remainder=True)\n",
        "  dataset = dataset.flat_map(lambda window: window.batch(window_size + 1))\n",
        "  dataset = dataset.shuffle(shuffle_buffer).map(lambda window: (window[:-1], window[-1]))\n",
        "  dataset = dataset.batch(batch_size).prefetch(1)\n",
        "  return dataset"
      ],
      "execution_count": 0,
      "outputs": []
    },
    {
      "cell_type": "code",
      "metadata": {
        "id": "ou-WmE2AXu6B",
        "colab_type": "code",
        "outputId": "7a2c0b57-ad85-4af6-d9bc-a06135971920",
        "colab": {
          "base_uri": "https://localhost:8080/",
          "height": 1000
        }
      },
      "source": [
        "dataset = windowed_dataset(x_train, window_size, batch_size, shuffle_buffer_size)\n",
        "print(dataset)\n",
        "l0 = tf.keras.layers.Dense(1, input_shape=[window_size])\n",
        "model = tf.keras.models.Sequential([l0])\n",
        "\n",
        "\n",
        "model.compile(loss=\"mse\", optimizer=tf.keras.optimizers.SGD(lr=1e-6, momentum=0.9))\n",
        "model.fit(dataset,epochs=100,verbose=1)\n",
        "\n",
        "print(\"Layer weights {}\".format(l0.get_weights()))\n",
        "\n"
      ],
      "execution_count": 7,
      "outputs": [
        {
          "output_type": "stream",
          "text": [
            "<PrefetchDataset shapes: ((None, None), (None,)), types: (tf.float32, tf.float32)>\n",
            "Epoch 1/100\n",
            "31/31 [==============================] - 0s 14ms/step - loss: 264.3742\n",
            "Epoch 2/100\n",
            "31/31 [==============================] - 0s 6ms/step - loss: 147.7316\n",
            "Epoch 3/100\n",
            "31/31 [==============================] - 0s 6ms/step - loss: 118.4908\n",
            "Epoch 4/100\n",
            "31/31 [==============================] - 0s 6ms/step - loss: 105.9506\n",
            "Epoch 5/100\n",
            "31/31 [==============================] - 0s 6ms/step - loss: 97.2601\n",
            "Epoch 6/100\n",
            "31/31 [==============================] - 0s 6ms/step - loss: 92.3185\n",
            "Epoch 7/100\n",
            "31/31 [==============================] - 0s 5ms/step - loss: 90.7855\n",
            "Epoch 8/100\n",
            "31/31 [==============================] - 0s 5ms/step - loss: 87.5824\n",
            "Epoch 9/100\n",
            "31/31 [==============================] - 0s 6ms/step - loss: 84.0700\n",
            "Epoch 10/100\n",
            "31/31 [==============================] - 0s 6ms/step - loss: 81.3999\n",
            "Epoch 11/100\n",
            "31/31 [==============================] - 0s 6ms/step - loss: 79.6923\n",
            "Epoch 12/100\n",
            "31/31 [==============================] - 0s 6ms/step - loss: 75.2945\n",
            "Epoch 13/100\n",
            "31/31 [==============================] - 0s 5ms/step - loss: 75.6633\n",
            "Epoch 14/100\n",
            "31/31 [==============================] - 0s 5ms/step - loss: 74.0321\n",
            "Epoch 15/100\n",
            "31/31 [==============================] - 0s 5ms/step - loss: 74.4709\n",
            "Epoch 16/100\n",
            "31/31 [==============================] - 0s 5ms/step - loss: 72.8978\n",
            "Epoch 17/100\n",
            "31/31 [==============================] - 0s 5ms/step - loss: 72.1892\n",
            "Epoch 18/100\n",
            "31/31 [==============================] - 0s 5ms/step - loss: 70.5822\n",
            "Epoch 19/100\n",
            "31/31 [==============================] - 0s 5ms/step - loss: 70.0129\n",
            "Epoch 20/100\n",
            "31/31 [==============================] - 0s 6ms/step - loss: 67.6624\n",
            "Epoch 21/100\n",
            "31/31 [==============================] - 0s 5ms/step - loss: 67.4498\n",
            "Epoch 22/100\n",
            "31/31 [==============================] - 0s 5ms/step - loss: 67.4360\n",
            "Epoch 23/100\n",
            "31/31 [==============================] - 0s 5ms/step - loss: 66.0866\n",
            "Epoch 24/100\n",
            "31/31 [==============================] - 0s 6ms/step - loss: 65.0333\n",
            "Epoch 25/100\n",
            "31/31 [==============================] - 0s 6ms/step - loss: 64.4450\n",
            "Epoch 26/100\n",
            "31/31 [==============================] - 0s 5ms/step - loss: 61.8429\n",
            "Epoch 27/100\n",
            "31/31 [==============================] - 0s 5ms/step - loss: 62.3696\n",
            "Epoch 28/100\n",
            "31/31 [==============================] - 0s 5ms/step - loss: 61.9402\n",
            "Epoch 29/100\n",
            "31/31 [==============================] - 0s 5ms/step - loss: 61.4972\n",
            "Epoch 30/100\n",
            "31/31 [==============================] - 0s 5ms/step - loss: 61.6595\n",
            "Epoch 31/100\n",
            "31/31 [==============================] - 0s 5ms/step - loss: 60.0027\n",
            "Epoch 32/100\n",
            "31/31 [==============================] - 0s 5ms/step - loss: 57.9387\n",
            "Epoch 33/100\n",
            "31/31 [==============================] - 0s 6ms/step - loss: 56.5385\n",
            "Epoch 34/100\n",
            "31/31 [==============================] - 0s 5ms/step - loss: 58.0110\n",
            "Epoch 35/100\n",
            "31/31 [==============================] - 0s 6ms/step - loss: 58.2681\n",
            "Epoch 36/100\n",
            "31/31 [==============================] - 0s 5ms/step - loss: 56.8507\n",
            "Epoch 37/100\n",
            "31/31 [==============================] - 0s 5ms/step - loss: 56.1816\n",
            "Epoch 38/100\n",
            "31/31 [==============================] - 0s 5ms/step - loss: 56.2708\n",
            "Epoch 39/100\n",
            "31/31 [==============================] - 0s 5ms/step - loss: 55.5867\n",
            "Epoch 40/100\n",
            "31/31 [==============================] - 0s 6ms/step - loss: 55.2755\n",
            "Epoch 41/100\n",
            "31/31 [==============================] - 0s 5ms/step - loss: 54.2254\n",
            "Epoch 42/100\n",
            "31/31 [==============================] - 0s 5ms/step - loss: 54.4626\n",
            "Epoch 43/100\n",
            "31/31 [==============================] - 0s 6ms/step - loss: 53.9430\n",
            "Epoch 44/100\n",
            "31/31 [==============================] - 0s 6ms/step - loss: 53.1343\n",
            "Epoch 45/100\n",
            "31/31 [==============================] - 0s 6ms/step - loss: 53.8271\n",
            "Epoch 46/100\n",
            "31/31 [==============================] - 0s 5ms/step - loss: 53.8583\n",
            "Epoch 47/100\n",
            "31/31 [==============================] - 0s 5ms/step - loss: 52.5776\n",
            "Epoch 48/100\n",
            "31/31 [==============================] - 0s 5ms/step - loss: 52.2527\n",
            "Epoch 49/100\n",
            "31/31 [==============================] - 0s 5ms/step - loss: 52.1040\n",
            "Epoch 50/100\n",
            "31/31 [==============================] - 0s 6ms/step - loss: 51.1607\n",
            "Epoch 51/100\n",
            "31/31 [==============================] - 0s 5ms/step - loss: 51.0770\n",
            "Epoch 52/100\n",
            "31/31 [==============================] - 0s 5ms/step - loss: 50.5335\n",
            "Epoch 53/100\n",
            "31/31 [==============================] - 0s 6ms/step - loss: 50.4774\n",
            "Epoch 54/100\n",
            "31/31 [==============================] - 0s 6ms/step - loss: 50.2042\n",
            "Epoch 55/100\n",
            "31/31 [==============================] - 0s 6ms/step - loss: 47.0735\n",
            "Epoch 56/100\n",
            "31/31 [==============================] - 0s 6ms/step - loss: 49.6143\n",
            "Epoch 57/100\n",
            "31/31 [==============================] - 0s 5ms/step - loss: 49.5478\n",
            "Epoch 58/100\n",
            "31/31 [==============================] - 0s 6ms/step - loss: 49.2273\n",
            "Epoch 59/100\n",
            "31/31 [==============================] - 0s 5ms/step - loss: 49.5417\n",
            "Epoch 60/100\n",
            "31/31 [==============================] - 0s 5ms/step - loss: 49.0156\n",
            "Epoch 61/100\n",
            "31/31 [==============================] - 0s 6ms/step - loss: 49.3665\n",
            "Epoch 62/100\n",
            "31/31 [==============================] - 0s 6ms/step - loss: 48.4898\n",
            "Epoch 63/100\n",
            "31/31 [==============================] - 0s 5ms/step - loss: 47.9929\n",
            "Epoch 64/100\n",
            "31/31 [==============================] - 0s 5ms/step - loss: 48.3317\n",
            "Epoch 65/100\n",
            "31/31 [==============================] - 0s 6ms/step - loss: 47.8162\n",
            "Epoch 66/100\n",
            "31/31 [==============================] - 0s 6ms/step - loss: 47.7770\n",
            "Epoch 67/100\n",
            "31/31 [==============================] - 0s 5ms/step - loss: 47.6830\n",
            "Epoch 68/100\n",
            "31/31 [==============================] - 0s 6ms/step - loss: 48.1461\n",
            "Epoch 69/100\n",
            "31/31 [==============================] - 0s 6ms/step - loss: 47.7293\n",
            "Epoch 70/100\n",
            "31/31 [==============================] - 0s 6ms/step - loss: 45.9710\n",
            "Epoch 71/100\n",
            "31/31 [==============================] - 0s 5ms/step - loss: 47.2189\n",
            "Epoch 72/100\n",
            "31/31 [==============================] - 0s 5ms/step - loss: 47.5775\n",
            "Epoch 73/100\n",
            "31/31 [==============================] - 0s 6ms/step - loss: 48.4080\n",
            "Epoch 74/100\n",
            "31/31 [==============================] - 0s 5ms/step - loss: 47.8666\n",
            "Epoch 75/100\n",
            "31/31 [==============================] - 0s 5ms/step - loss: 47.0294\n",
            "Epoch 76/100\n",
            "31/31 [==============================] - 0s 6ms/step - loss: 46.5505\n",
            "Epoch 77/100\n",
            "31/31 [==============================] - 0s 5ms/step - loss: 46.0167\n",
            "Epoch 78/100\n",
            "31/31 [==============================] - 0s 5ms/step - loss: 45.1701\n",
            "Epoch 79/100\n",
            "31/31 [==============================] - 0s 5ms/step - loss: 44.1072\n",
            "Epoch 80/100\n",
            "31/31 [==============================] - 0s 5ms/step - loss: 45.8180\n",
            "Epoch 81/100\n",
            "31/31 [==============================] - 0s 6ms/step - loss: 45.6556\n",
            "Epoch 82/100\n",
            "31/31 [==============================] - 0s 6ms/step - loss: 45.2758\n",
            "Epoch 83/100\n",
            "31/31 [==============================] - 0s 5ms/step - loss: 45.3580\n",
            "Epoch 84/100\n",
            "31/31 [==============================] - 0s 5ms/step - loss: 45.2045\n",
            "Epoch 85/100\n",
            "31/31 [==============================] - 0s 6ms/step - loss: 44.9872\n",
            "Epoch 86/100\n",
            "31/31 [==============================] - 0s 6ms/step - loss: 45.9164\n",
            "Epoch 87/100\n",
            "31/31 [==============================] - 0s 5ms/step - loss: 45.1236\n",
            "Epoch 88/100\n",
            "31/31 [==============================] - 0s 6ms/step - loss: 45.6151\n",
            "Epoch 89/100\n",
            "31/31 [==============================] - 0s 6ms/step - loss: 44.6802\n",
            "Epoch 90/100\n",
            "31/31 [==============================] - 0s 5ms/step - loss: 45.5297\n",
            "Epoch 91/100\n",
            "31/31 [==============================] - 0s 5ms/step - loss: 45.1048\n",
            "Epoch 92/100\n",
            "31/31 [==============================] - 0s 5ms/step - loss: 45.2878\n",
            "Epoch 93/100\n",
            "31/31 [==============================] - 0s 5ms/step - loss: 45.6112\n",
            "Epoch 94/100\n",
            "31/31 [==============================] - 0s 5ms/step - loss: 45.1498\n",
            "Epoch 95/100\n",
            "31/31 [==============================] - 0s 5ms/step - loss: 45.0538\n",
            "Epoch 96/100\n",
            "31/31 [==============================] - 0s 5ms/step - loss: 44.4523\n",
            "Epoch 97/100\n",
            "31/31 [==============================] - 0s 6ms/step - loss: 44.9148\n",
            "Epoch 98/100\n",
            "31/31 [==============================] - 0s 6ms/step - loss: 44.4793\n",
            "Epoch 99/100\n",
            "31/31 [==============================] - 0s 5ms/step - loss: 45.1294\n",
            "Epoch 100/100\n",
            "31/31 [==============================] - 0s 5ms/step - loss: 44.4211\n",
            "Layer weights [array([[-0.06495775],\n",
            "       [-0.05154052],\n",
            "       [ 0.10242976],\n",
            "       [ 0.03639468],\n",
            "       [-0.00296366],\n",
            "       [-0.01118271],\n",
            "       [-0.00581394],\n",
            "       [-0.02822021],\n",
            "       [-0.03752601],\n",
            "       [ 0.09723849],\n",
            "       [-0.09537809],\n",
            "       [ 0.07393294],\n",
            "       [-0.01201009],\n",
            "       [-0.03754083],\n",
            "       [ 0.04659659],\n",
            "       [ 0.02901202],\n",
            "       [ 0.0888546 ],\n",
            "       [ 0.13768975],\n",
            "       [ 0.21881753],\n",
            "       [ 0.49040887]], dtype=float32), array([0.01490706], dtype=float32)]\n"
          ],
          "name": "stdout"
        }
      ]
    },
    {
      "cell_type": "code",
      "metadata": {
        "id": "-gtVJuLVxR-M",
        "colab_type": "code",
        "outputId": "43959862-8c73-45b4-c155-e604d8129ef3",
        "colab": {
          "base_uri": "https://localhost:8080/",
          "height": 388
        }
      },
      "source": [
        "forecast = []\n",
        "\n",
        "for time in range(len(series) - window_size):\n",
        "  forecast.append(model.predict(series[time:time + window_size][np.newaxis]))\n",
        "\n",
        "forecast = forecast[split_time-window_size:]\n",
        "results = np.array(forecast)[:, 0, 0]\n",
        "\n",
        "\n",
        "plt.figure(figsize=(10, 6))\n",
        "\n",
        "plot_series(time_valid, x_valid)\n",
        "plot_series(time_valid, results)"
      ],
      "execution_count": 8,
      "outputs": [
        {
          "output_type": "display_data",
          "data": {
            "image/png": "[encoded data removed]",
            "text/plain": [
              "<Figure size 720x432 with 1 Axes>"
            ]
          },
          "metadata": {
            "tags": []
          }
        }
      ]
    },
    {
      "cell_type": "code",
      "metadata": {
        "colab_type": "code",
        "outputId": "bffe3acd-6608-4e46-d98f-b1ffa367cd26",
        "id": "hR2BO0Dai_ZT",
        "colab": {
          "base_uri": "https://localhost:8080/",
          "height": 35
        }
      },
      "source": [
        "tf.keras.metrics.mean_absolute_error(x_valid, results).numpy()"
      ],
      "execution_count": 9,
      "outputs": [
        {
          "output_type": "execute_result",
          "data": {
            "text/plain": [
              "5.211473"
            ]
          },
          "metadata": {
            "tags": []
          },
          "execution_count": 9
        }
      ]
    },
    {
      "cell_type": "code",
      "metadata": {
        "id": "kjDgDkyLxvJy",
        "colab_type": "code",
        "colab": {}
      },
      "source": [
        ""
      ],
      "execution_count": 0,
      "outputs": []
    }
  ]
}
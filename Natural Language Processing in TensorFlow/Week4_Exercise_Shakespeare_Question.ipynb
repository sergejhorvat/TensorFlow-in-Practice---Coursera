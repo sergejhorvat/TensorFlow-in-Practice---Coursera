{
  "nbformat": 4,
  "nbformat_minor": 0,
  "metadata": {
    "colab": {
      "name": "NLP-Week4-Exercise-Shakespeare-Question.ipynb",
      "provenance": [],
      "include_colab_link": true
    },
    "kernelspec": {
      "name": "python2",
      "display_name": "Python 2"
    },
    "accelerator": "GPU"
  },
  "cells": [
    {
      "cell_type": "markdown",
      "metadata": {
        "id": "view-in-github",
        "colab_type": "text"
      },
      "source": [
        "<a href=\"https://colab.research.google.com/github/sergejhorvat/TensorFlow-in-Practice---Coursera/blob/master/Natural%20Language%20Processing%20in%20TensorFlow/Week4_Exercise_Shakespeare_Question.ipynb\" target=\"_parent\"><img src=\"https://colab.research.google.com/assets/colab-badge.svg\" alt=\"Open In Colab\"/></a>"
      ]
    },
    {
      "cell_type": "code",
      "metadata": {
        "id": "BOwsuGQQY9OL",
        "colab_type": "code",
        "colab": {
          "base_uri": "https://localhost:8080/",
          "height": 808
        },
        "outputId": "66c1793a-0735-4284-850d-a76892721654"
      },
      "source": [
        "!pip install tensorflow-gpu==2.0.0\n",
        "from tensorflow.keras.preprocessing.sequence import pad_sequences\n",
        "from tensorflow.keras.layers import Embedding, LSTM, Dense, Dropout, Bidirectional\n",
        "from tensorflow.keras.preprocessing.text import Tokenizer\n",
        "from tensorflow.keras.models import Sequential\n",
        "from tensorflow.keras.optimizers import Adam\n",
        "### YOUR CODE HERE\n",
        "# Figure out how to import regularizers\n",
        "###\n",
        "from keras import regularizers\n",
        "import tensorflow.keras.utils as ku \n",
        "import numpy as np "
      ],
      "execution_count": 1,
      "outputs": [
        {
          "output_type": "stream",
          "text": [
            "Requirement already satisfied: tensorflow-gpu==2.0.0 in /usr/local/lib/python2.7/dist-packages (2.0.0)\n",
            "Requirement already satisfied: gast==0.2.2 in /usr/local/lib/python2.7/dist-packages (from tensorflow-gpu==2.0.0) (0.2.2)\n",
            "Requirement already satisfied: grpcio>=1.8.6 in /usr/local/lib/python2.7/dist-packages (from tensorflow-gpu==2.0.0) (1.15.0)\n",
            "Requirement already satisfied: numpy<2.0,>=1.16.0 in /usr/local/lib/python2.7/dist-packages (from tensorflow-gpu==2.0.0) (1.16.4)\n",
            "Requirement already satisfied: tensorboard<2.1.0,>=2.0.0 in /usr/local/lib/python2.7/dist-packages (from tensorflow-gpu==2.0.0) (2.0.2)\n",
            "Requirement already satisfied: wrapt>=1.11.1 in /usr/local/lib/python2.7/dist-packages (from tensorflow-gpu==2.0.0) (1.11.2)\n",
            "Requirement already satisfied: protobuf>=3.6.1 in /usr/local/lib/python2.7/dist-packages (from tensorflow-gpu==2.0.0) (3.7.1)\n",
            "Requirement already satisfied: keras-preprocessing>=1.0.5 in /usr/local/lib/python2.7/dist-packages (from tensorflow-gpu==2.0.0) (1.1.0)\n",
            "Requirement already satisfied: backports.weakref>=1.0rc1; python_version < \"3.4\" in /usr/local/lib/python2.7/dist-packages (from tensorflow-gpu==2.0.0) (1.0.post1)\n",
            "Requirement already satisfied: keras-applications>=1.0.8 in /usr/local/lib/python2.7/dist-packages (from tensorflow-gpu==2.0.0) (1.0.8)\n",
            "Requirement already satisfied: wheel in /usr/local/lib/python2.7/dist-packages (from tensorflow-gpu==2.0.0) (0.33.6)\n",
            "Requirement already satisfied: mock>=2.0.0 in /usr/local/lib/python2.7/dist-packages (from tensorflow-gpu==2.0.0) (2.0.0)\n",
            "Requirement already satisfied: functools32>=3.2.3 in /usr/local/lib/python2.7/dist-packages (from tensorflow-gpu==2.0.0) (3.2.3.post2)\n",
            "Requirement already satisfied: six>=1.10.0 in /usr/local/lib/python2.7/dist-packages (from tensorflow-gpu==2.0.0) (1.12.0)\n",
            "Requirement already satisfied: absl-py>=0.7.0 in /usr/local/lib/python2.7/dist-packages (from tensorflow-gpu==2.0.0) (0.7.1)\n",
            "Requirement already satisfied: opt-einsum>=2.3.2 in /usr/local/lib/python2.7/dist-packages (from tensorflow-gpu==2.0.0) (2.3.2)\n",
            "Requirement already satisfied: termcolor>=1.1.0 in /usr/local/lib/python2.7/dist-packages (from tensorflow-gpu==2.0.0) (1.1.0)\n",
            "Requirement already satisfied: google-pasta>=0.1.6 in /usr/local/lib/python2.7/dist-packages (from tensorflow-gpu==2.0.0) (0.1.7)\n",
            "Requirement already satisfied: enum34>=1.1.6; python_version < \"3.4\" in /usr/local/lib/python2.7/dist-packages (from tensorflow-gpu==2.0.0) (1.1.6)\n",
            "Requirement already satisfied: tensorflow-estimator<2.1.0,>=2.0.0 in /usr/local/lib/python2.7/dist-packages (from tensorflow-gpu==2.0.0) (2.0.1)\n",
            "Requirement already satisfied: astor>=0.6.0 in /usr/local/lib/python2.7/dist-packages (from tensorflow-gpu==2.0.0) (0.8.0)\n",
            "Requirement already satisfied: futures>=2.2.0 in /usr/local/lib/python2.7/dist-packages (from grpcio>=1.8.6->tensorflow-gpu==2.0.0) (3.2.0)\n",
            "Requirement already satisfied: setuptools>=41.0.0 in /usr/local/lib/python2.7/dist-packages (from tensorboard<2.1.0,>=2.0.0->tensorflow-gpu==2.0.0) (42.0.2)\n",
            "Requirement already satisfied: google-auth-oauthlib<0.5,>=0.4.1 in /usr/local/lib/python2.7/dist-packages (from tensorboard<2.1.0,>=2.0.0->tensorflow-gpu==2.0.0) (0.4.1)\n",
            "Requirement already satisfied: werkzeug>=0.11.15 in /usr/local/lib/python2.7/dist-packages (from tensorboard<2.1.0,>=2.0.0->tensorflow-gpu==2.0.0) (0.15.5)\n",
            "Requirement already satisfied: google-auth<2,>=1.6.3 in /usr/local/lib/python2.7/dist-packages (from tensorboard<2.1.0,>=2.0.0->tensorflow-gpu==2.0.0) (1.8.2)\n",
            "Requirement already satisfied: requests<3,>=2.21.0 in /usr/local/lib/python2.7/dist-packages (from tensorboard<2.1.0,>=2.0.0->tensorflow-gpu==2.0.0) (2.21.0)\n",
            "Requirement already satisfied: markdown>=2.6.8 in /usr/local/lib/python2.7/dist-packages (from tensorboard<2.1.0,>=2.0.0->tensorflow-gpu==2.0.0) (3.1.1)\n",
            "Requirement already satisfied: h5py in /usr/local/lib/python2.7/dist-packages (from keras-applications>=1.0.8->tensorflow-gpu==2.0.0) (2.8.0)\n",
            "Requirement already satisfied: funcsigs>=1; python_version < \"3.3\" in /usr/local/lib/python2.7/dist-packages (from mock>=2.0.0->tensorflow-gpu==2.0.0) (1.0.2)\n",
            "Requirement already satisfied: pbr>=0.11 in /usr/local/lib/python2.7/dist-packages (from mock>=2.0.0->tensorflow-gpu==2.0.0) (5.4.0)\n",
            "Requirement already satisfied: requests-oauthlib>=0.7.0 in /usr/local/lib/python2.7/dist-packages (from google-auth-oauthlib<0.5,>=0.4.1->tensorboard<2.1.0,>=2.0.0->tensorflow-gpu==2.0.0) (1.2.0)\n",
            "Requirement already satisfied: pyasn1-modules>=0.2.1 in /usr/local/lib/python2.7/dist-packages (from google-auth<2,>=1.6.3->tensorboard<2.1.0,>=2.0.0->tensorflow-gpu==2.0.0) (0.2.5)\n",
            "Requirement already satisfied: cachetools<3.2,>=2.0.0 in /usr/local/lib/python2.7/dist-packages (from google-auth<2,>=1.6.3->tensorboard<2.1.0,>=2.0.0->tensorflow-gpu==2.0.0) (3.1.1)\n",
            "Requirement already satisfied: rsa<4.1,>=3.1.4 in /usr/local/lib/python2.7/dist-packages (from google-auth<2,>=1.6.3->tensorboard<2.1.0,>=2.0.0->tensorflow-gpu==2.0.0) (4.0)\n",
            "Requirement already satisfied: urllib3<1.25,>=1.21.1 in /usr/local/lib/python2.7/dist-packages (from requests<3,>=2.21.0->tensorboard<2.1.0,>=2.0.0->tensorflow-gpu==2.0.0) (1.24.3)\n",
            "Requirement already satisfied: certifi>=2017.4.17 in /usr/local/lib/python2.7/dist-packages (from requests<3,>=2.21.0->tensorboard<2.1.0,>=2.0.0->tensorflow-gpu==2.0.0) (2019.6.16)\n",
            "Requirement already satisfied: chardet<3.1.0,>=3.0.2 in /usr/local/lib/python2.7/dist-packages (from requests<3,>=2.21.0->tensorboard<2.1.0,>=2.0.0->tensorflow-gpu==2.0.0) (3.0.4)\n",
            "Requirement already satisfied: idna<2.9,>=2.5 in /usr/local/lib/python2.7/dist-packages (from requests<3,>=2.21.0->tensorboard<2.1.0,>=2.0.0->tensorflow-gpu==2.0.0) (2.8)\n",
            "Requirement already satisfied: oauthlib>=3.0.0 in /usr/local/lib/python2.7/dist-packages (from requests-oauthlib>=0.7.0->google-auth-oauthlib<0.5,>=0.4.1->tensorboard<2.1.0,>=2.0.0->tensorflow-gpu==2.0.0) (3.0.2)\n",
            "Requirement already satisfied: pyasn1<0.5.0,>=0.4.1 in /usr/local/lib/python2.7/dist-packages (from pyasn1-modules>=0.2.1->google-auth<2,>=1.6.3->tensorboard<2.1.0,>=2.0.0->tensorflow-gpu==2.0.0) (0.4.5)\n"
          ],
          "name": "stdout"
        },
        {
          "output_type": "stream",
          "text": [
            "Using TensorFlow backend.\n"
          ],
          "name": "stderr"
        }
      ]
    },
    {
      "cell_type": "code",
      "metadata": {
        "colab_type": "code",
        "id": "PRnDnCW-Z7qv",
        "colab": {
          "base_uri": "https://localhost:8080/",
          "height": 219
        },
        "outputId": "b5eaeeed-950d-4c01-f3f8-04b438d56fa8"
      },
      "source": [
        "tokenizer = Tokenizer()\n",
        "!wget --no-check-certificate \\\n",
        "    https://storage.googleapis.com/laurencemoroney-blog.appspot.com/sonnets.txt \\\n",
        "    -O /tmp/sonnets.txt\n",
        "data = open('/tmp/sonnets.txt').read()\n",
        "\n",
        "corpus = data.lower().split(\"\\n\")\n",
        "\n",
        "\n",
        "tokenizer.fit_on_texts(corpus)\n",
        "total_words = len(tokenizer.word_index) + 1\n",
        "\n",
        "# create input sequences using list of tokens\n",
        "input_sequences = []\n",
        "for line in corpus:\n",
        "\ttoken_list = tokenizer.texts_to_sequences([line])[0]\n",
        "\tfor i in range(1, len(token_list)):\n",
        "\t\tn_gram_sequence = token_list[:i+1]\n",
        "\t\tinput_sequences.append(n_gram_sequence)\n",
        "\n",
        "\n",
        "# pad sequences \n",
        "max_sequence_len = max([len(x) for x in input_sequences])\n",
        "input_sequences = np.array(pad_sequences(input_sequences, maxlen=max_sequence_len, padding='pre'))\n",
        "\n",
        "# create predictors and label\n",
        "predictors, label = input_sequences[:,:-1],input_sequences[:,-1]\n",
        "\n",
        "# One hot encoding\n",
        "label = ku.to_categorical(label, num_classes=total_words)"
      ],
      "execution_count": 2,
      "outputs": [
        {
          "output_type": "stream",
          "text": [
            "--2019-12-16 21:10:35--  https://storage.googleapis.com/laurencemoroney-blog.appspot.com/sonnets.txt\n",
            "Resolving storage.googleapis.com (storage.googleapis.com)... 74.125.68.128, 2404:6800:4003:c03::80\n",
            "Connecting to storage.googleapis.com (storage.googleapis.com)|74.125.68.128|:443... connected.\n",
            "HTTP request sent, awaiting response... 200 OK\n",
            "Length: 93578 (91K) [text/plain]\n",
            "Saving to: ‘/tmp/sonnets.txt’\n",
            "\n",
            "\r/tmp/sonnets.txt      0%[                    ]       0  --.-KB/s               \r/tmp/sonnets.txt    100%[===================>]  91.38K  --.-KB/s    in 0.001s  \n",
            "\n",
            "2019-12-16 21:10:35 (157 MB/s) - ‘/tmp/sonnets.txt’ saved [93578/93578]\n",
            "\n"
          ],
          "name": "stdout"
        }
      ]
    },
    {
      "cell_type": "code",
      "metadata": {
        "id": "w9vH8Y59ajYL",
        "colab_type": "code",
        "colab": {
          "base_uri": "https://localhost:8080/",
          "height": 403
        },
        "outputId": "d4c67d04-4988-453f-da0c-dc24d81f1020"
      },
      "source": [
        "model = Sequential()\n",
        "model.add(Embedding(total_words, 128, input_length = max_sequence_len-1)) # Embedding layer\n",
        "model.add(Bidirectional(LSTM(units=100, return_sequences=True)))  # An LSTM Layer\n",
        "model.add(Dropout(rate=0.2)) # Dropout layer\n",
        "model.add((LSTM(100)))# Another LSTM Layer\n",
        "model.add(Dense(1024,activation='relu',kernel_regularizer=regularizers.l2(0.01)))# A Dense Layer including regularizers\n",
        "model.add(Dense(total_words, activation='softmax')) # A Dense Layer)\n",
        "# Pick an optimizer\n",
        "model.compile(loss='categorical_crossentropy', optimizer='adam', metrics=['accuracy'])# Pick a loss function and an optimizer)\n",
        "print(model.summary())\n"
      ],
      "execution_count": 14,
      "outputs": [
        {
          "output_type": "stream",
          "text": [
            "Model: \"sequential_5\"\n",
            "_________________________________________________________________\n",
            "Layer (type)                 Output Shape              Param #   \n",
            "=================================================================\n",
            "embedding_5 (Embedding)      (None, 10, 128)           411008    \n",
            "_________________________________________________________________\n",
            "bidirectional_10 (Bidirectio (None, 10, 200)           183200    \n",
            "_________________________________________________________________\n",
            "dropout_5 (Dropout)          (None, 10, 200)           0         \n",
            "_________________________________________________________________\n",
            "lstm_11 (LSTM)               (None, 100)               120400    \n",
            "_________________________________________________________________\n",
            "dense_6 (Dense)              (None, 1024)              103424    \n",
            "_________________________________________________________________\n",
            "dense_7 (Dense)              (None, 3211)              3291275   \n",
            "=================================================================\n",
            "Total params: 4,109,307\n",
            "Trainable params: 4,109,307\n",
            "Non-trainable params: 0\n",
            "_________________________________________________________________\n",
            "None\n"
          ],
          "name": "stdout"
        }
      ]
    },
    {
      "cell_type": "code",
      "metadata": {
        "id": "AIg2f1HBxqof",
        "colab_type": "code",
        "colab": {
          "base_uri": "https://localhost:8080/",
          "height": 1000
        },
        "outputId": "5eaf9773-44ac-4df5-8183-e60145fb28e6"
      },
      "source": [
        " history = model.fit(predictors, label, epochs=100, verbose=1)"
      ],
      "execution_count": 15,
      "outputs": [
        {
          "output_type": "stream",
          "text": [
            "Train on 15462 samples\n",
            "Epoch 1/100\n",
            "15462/15462 [==============================] - 11s 706us/sample - loss: 6.9432 - accuracy: 0.0207\n",
            "Epoch 2/100\n",
            "15462/15462 [==============================] - 7s 444us/sample - loss: 6.4968 - accuracy: 0.0224\n",
            "Epoch 3/100\n",
            "15462/15462 [==============================] - 7s 445us/sample - loss: 6.4027 - accuracy: 0.0230\n",
            "Epoch 4/100\n",
            "15462/15462 [==============================] - 7s 451us/sample - loss: 6.2812 - accuracy: 0.0303\n",
            "Epoch 5/100\n",
            "15462/15462 [==============================] - 7s 462us/sample - loss: 6.1833 - accuracy: 0.0345\n",
            "Epoch 6/100\n",
            "15462/15462 [==============================] - 7s 454us/sample - loss: 6.0994 - accuracy: 0.0378\n",
            "Epoch 7/100\n",
            "15462/15462 [==============================] - 7s 442us/sample - loss: 6.0205 - accuracy: 0.0391\n",
            "Epoch 8/100\n",
            "15462/15462 [==============================] - 7s 444us/sample - loss: 5.9336 - accuracy: 0.0440\n",
            "Epoch 9/100\n",
            "15462/15462 [==============================] - 7s 449us/sample - loss: 5.8419 - accuracy: 0.0479\n",
            "Epoch 10/100\n",
            "15462/15462 [==============================] - 7s 442us/sample - loss: 5.7390 - accuracy: 0.0526\n",
            "Epoch 11/100\n",
            "15462/15462 [==============================] - 7s 440us/sample - loss: 5.6310 - accuracy: 0.0622\n",
            "Epoch 12/100\n",
            "15462/15462 [==============================] - 7s 450us/sample - loss: 5.5254 - accuracy: 0.0667\n",
            "Epoch 13/100\n",
            "15462/15462 [==============================] - 7s 446us/sample - loss: 5.4227 - accuracy: 0.0717\n",
            "Epoch 14/100\n",
            "15462/15462 [==============================] - 7s 451us/sample - loss: 5.3147 - accuracy: 0.0774\n",
            "Epoch 15/100\n",
            "15462/15462 [==============================] - 7s 450us/sample - loss: 5.2155 - accuracy: 0.0849\n",
            "Epoch 16/100\n",
            "15462/15462 [==============================] - 7s 451us/sample - loss: 5.1110 - accuracy: 0.0926\n",
            "Epoch 17/100\n",
            "15462/15462 [==============================] - 7s 452us/sample - loss: 5.0201 - accuracy: 0.0977\n",
            "Epoch 18/100\n",
            "15462/15462 [==============================] - 7s 448us/sample - loss: 4.9178 - accuracy: 0.1052\n",
            "Epoch 19/100\n",
            "15462/15462 [==============================] - 7s 448us/sample - loss: 4.8164 - accuracy: 0.1153\n",
            "Epoch 20/100\n",
            "15462/15462 [==============================] - 7s 445us/sample - loss: 4.7236 - accuracy: 0.1239\n",
            "Epoch 21/100\n",
            "15462/15462 [==============================] - 7s 455us/sample - loss: 4.6219 - accuracy: 0.1336\n",
            "Epoch 22/100\n",
            "15462/15462 [==============================] - 7s 451us/sample - loss: 4.5264 - accuracy: 0.1439\n",
            "Epoch 23/100\n",
            "15462/15462 [==============================] - 7s 457us/sample - loss: 4.4330 - accuracy: 0.1491\n",
            "Epoch 24/100\n",
            "15462/15462 [==============================] - 7s 453us/sample - loss: 4.3359 - accuracy: 0.1598\n",
            "Epoch 25/100\n",
            "15462/15462 [==============================] - 7s 447us/sample - loss: 4.2273 - accuracy: 0.1744\n",
            "Epoch 26/100\n",
            "15462/15462 [==============================] - 7s 452us/sample - loss: 4.1332 - accuracy: 0.1882\n",
            "Epoch 27/100\n",
            "15462/15462 [==============================] - 7s 453us/sample - loss: 4.0515 - accuracy: 0.1949\n",
            "Epoch 28/100\n",
            "15462/15462 [==============================] - 7s 454us/sample - loss: 3.9465 - accuracy: 0.2097\n",
            "Epoch 29/100\n",
            "15462/15462 [==============================] - 7s 446us/sample - loss: 3.8499 - accuracy: 0.2282\n",
            "Epoch 30/100\n",
            "15462/15462 [==============================] - 7s 452us/sample - loss: 3.7662 - accuracy: 0.2465\n",
            "Epoch 31/100\n",
            "15462/15462 [==============================] - 7s 453us/sample - loss: 3.6770 - accuracy: 0.2661\n",
            "Epoch 32/100\n",
            "15462/15462 [==============================] - 7s 450us/sample - loss: 3.5887 - accuracy: 0.2791\n",
            "Epoch 33/100\n",
            "15462/15462 [==============================] - 7s 452us/sample - loss: 3.5090 - accuracy: 0.2977\n",
            "Epoch 34/100\n",
            "15462/15462 [==============================] - 7s 444us/sample - loss: 3.4330 - accuracy: 0.3176\n",
            "Epoch 35/100\n",
            "15462/15462 [==============================] - 7s 448us/sample - loss: 3.3471 - accuracy: 0.3312\n",
            "Epoch 36/100\n",
            "15462/15462 [==============================] - 7s 446us/sample - loss: 3.2757 - accuracy: 0.3468\n",
            "Epoch 37/100\n",
            "15462/15462 [==============================] - 7s 463us/sample - loss: 3.2022 - accuracy: 0.3626\n",
            "Epoch 38/100\n",
            "15462/15462 [==============================] - 7s 468us/sample - loss: 3.1319 - accuracy: 0.3799\n",
            "Epoch 39/100\n",
            "15462/15462 [==============================] - 7s 451us/sample - loss: 3.0593 - accuracy: 0.3957\n",
            "Epoch 40/100\n",
            "15462/15462 [==============================] - 7s 453us/sample - loss: 2.9991 - accuracy: 0.4116\n",
            "Epoch 41/100\n",
            "15462/15462 [==============================] - 7s 448us/sample - loss: 2.9481 - accuracy: 0.4263\n",
            "Epoch 42/100\n",
            "15462/15462 [==============================] - 7s 445us/sample - loss: 2.8788 - accuracy: 0.4342\n",
            "Epoch 43/100\n",
            "15462/15462 [==============================] - 7s 447us/sample - loss: 2.8213 - accuracy: 0.4468\n",
            "Epoch 44/100\n",
            "15462/15462 [==============================] - 7s 451us/sample - loss: 2.7604 - accuracy: 0.4623\n",
            "Epoch 45/100\n",
            "15462/15462 [==============================] - 7s 445us/sample - loss: 2.7095 - accuracy: 0.4704\n",
            "Epoch 46/100\n",
            "15462/15462 [==============================] - 7s 448us/sample - loss: 2.6561 - accuracy: 0.4831\n",
            "Epoch 47/100\n",
            "15462/15462 [==============================] - 7s 448us/sample - loss: 2.6030 - accuracy: 0.4973\n",
            "Epoch 48/100\n",
            "15462/15462 [==============================] - 7s 453us/sample - loss: 2.5501 - accuracy: 0.5095\n",
            "Epoch 49/100\n",
            "15462/15462 [==============================] - 7s 458us/sample - loss: 2.5005 - accuracy: 0.5222\n",
            "Epoch 50/100\n",
            "15462/15462 [==============================] - 7s 452us/sample - loss: 2.4535 - accuracy: 0.5296\n",
            "Epoch 51/100\n",
            "15462/15462 [==============================] - 7s 454us/sample - loss: 2.4105 - accuracy: 0.5407\n",
            "Epoch 52/100\n",
            "15462/15462 [==============================] - 7s 453us/sample - loss: 2.3617 - accuracy: 0.5498\n",
            "Epoch 53/100\n",
            "15462/15462 [==============================] - 7s 446us/sample - loss: 2.3206 - accuracy: 0.5631\n",
            "Epoch 54/100\n",
            "15462/15462 [==============================] - 7s 448us/sample - loss: 2.2819 - accuracy: 0.5697\n",
            "Epoch 55/100\n",
            "15462/15462 [==============================] - 7s 444us/sample - loss: 2.2461 - accuracy: 0.5801\n",
            "Epoch 56/100\n",
            "15462/15462 [==============================] - 7s 451us/sample - loss: 2.1948 - accuracy: 0.5881\n",
            "Epoch 57/100\n",
            "15462/15462 [==============================] - 7s 453us/sample - loss: 2.1657 - accuracy: 0.5974\n",
            "Epoch 58/100\n",
            "15462/15462 [==============================] - 7s 446us/sample - loss: 2.1313 - accuracy: 0.6059\n",
            "Epoch 59/100\n",
            "15462/15462 [==============================] - 7s 446us/sample - loss: 2.0974 - accuracy: 0.6095\n",
            "Epoch 60/100\n",
            "15462/15462 [==============================] - 7s 449us/sample - loss: 2.0460 - accuracy: 0.6228\n",
            "Epoch 61/100\n",
            "15462/15462 [==============================] - 7s 448us/sample - loss: 2.0178 - accuracy: 0.6282\n",
            "Epoch 62/100\n",
            "15462/15462 [==============================] - 7s 451us/sample - loss: 1.9991 - accuracy: 0.6355\n",
            "Epoch 63/100\n",
            "15462/15462 [==============================] - 7s 451us/sample - loss: 1.9530 - accuracy: 0.6392\n",
            "Epoch 64/100\n",
            "15462/15462 [==============================] - 7s 449us/sample - loss: 1.9311 - accuracy: 0.6433\n",
            "Epoch 65/100\n",
            "15462/15462 [==============================] - 7s 450us/sample - loss: 1.9118 - accuracy: 0.6488\n",
            "Epoch 66/100\n",
            "15462/15462 [==============================] - 7s 448us/sample - loss: 1.8747 - accuracy: 0.6571\n",
            "Epoch 67/100\n",
            "15462/15462 [==============================] - 7s 445us/sample - loss: 1.8414 - accuracy: 0.6669\n",
            "Epoch 68/100\n",
            "15462/15462 [==============================] - 7s 450us/sample - loss: 1.8103 - accuracy: 0.6724\n",
            "Epoch 69/100\n",
            "15462/15462 [==============================] - 7s 451us/sample - loss: 1.7928 - accuracy: 0.6758\n",
            "Epoch 70/100\n",
            "15462/15462 [==============================] - 7s 449us/sample - loss: 1.7614 - accuracy: 0.6815\n",
            "Epoch 71/100\n",
            "15462/15462 [==============================] - 7s 448us/sample - loss: 1.7477 - accuracy: 0.6852\n",
            "Epoch 72/100\n",
            "15462/15462 [==============================] - 7s 448us/sample - loss: 1.7282 - accuracy: 0.6890\n",
            "Epoch 73/100\n",
            "15462/15462 [==============================] - 7s 454us/sample - loss: 1.6964 - accuracy: 0.6974\n",
            "Epoch 74/100\n",
            "15462/15462 [==============================] - 7s 460us/sample - loss: 1.6766 - accuracy: 0.6987\n",
            "Epoch 75/100\n",
            "15462/15462 [==============================] - 7s 451us/sample - loss: 1.6582 - accuracy: 0.7030\n",
            "Epoch 76/100\n",
            "15462/15462 [==============================] - 7s 448us/sample - loss: 1.6447 - accuracy: 0.7042\n",
            "Epoch 77/100\n",
            "15462/15462 [==============================] - 7s 448us/sample - loss: 1.6115 - accuracy: 0.7130\n",
            "Epoch 78/100\n",
            "15462/15462 [==============================] - 7s 452us/sample - loss: 1.5898 - accuracy: 0.7178\n",
            "Epoch 79/100\n",
            "15462/15462 [==============================] - 7s 450us/sample - loss: 1.5680 - accuracy: 0.7214\n",
            "Epoch 80/100\n",
            "15462/15462 [==============================] - 7s 448us/sample - loss: 1.5656 - accuracy: 0.7191\n",
            "Epoch 81/100\n",
            "15462/15462 [==============================] - 7s 456us/sample - loss: 1.5348 - accuracy: 0.7273\n",
            "Epoch 82/100\n",
            "15462/15462 [==============================] - 7s 478us/sample - loss: 1.5175 - accuracy: 0.7339\n",
            "Epoch 83/100\n",
            "15462/15462 [==============================] - 7s 461us/sample - loss: 1.4954 - accuracy: 0.7354\n",
            "Epoch 84/100\n",
            "15462/15462 [==============================] - 7s 454us/sample - loss: 1.4866 - accuracy: 0.7376\n",
            "Epoch 85/100\n",
            "15462/15462 [==============================] - 7s 451us/sample - loss: 1.4696 - accuracy: 0.7418\n",
            "Epoch 86/100\n",
            "15462/15462 [==============================] - 7s 450us/sample - loss: 1.4441 - accuracy: 0.7434\n",
            "Epoch 87/100\n",
            "15462/15462 [==============================] - 7s 450us/sample - loss: 1.4331 - accuracy: 0.7476\n",
            "Epoch 88/100\n",
            "15462/15462 [==============================] - 7s 449us/sample - loss: 1.4236 - accuracy: 0.7469\n",
            "Epoch 89/100\n",
            "15462/15462 [==============================] - 7s 448us/sample - loss: 1.4238 - accuracy: 0.7466\n",
            "Epoch 90/100\n",
            "15462/15462 [==============================] - 7s 450us/sample - loss: 1.3946 - accuracy: 0.7542\n",
            "Epoch 91/100\n",
            "15462/15462 [==============================] - 7s 449us/sample - loss: 1.3830 - accuracy: 0.7553\n",
            "Epoch 92/100\n",
            "15462/15462 [==============================] - 7s 446us/sample - loss: 1.3616 - accuracy: 0.7610\n",
            "Epoch 93/100\n",
            "15462/15462 [==============================] - 7s 453us/sample - loss: 1.3556 - accuracy: 0.7631\n",
            "Epoch 94/100\n",
            "15462/15462 [==============================] - 7s 443us/sample - loss: 1.3385 - accuracy: 0.7654\n",
            "Epoch 95/100\n",
            "15462/15462 [==============================] - 7s 448us/sample - loss: 1.3279 - accuracy: 0.7652\n",
            "Epoch 96/100\n",
            "15462/15462 [==============================] - 7s 447us/sample - loss: 1.3210 - accuracy: 0.7672\n",
            "Epoch 97/100\n",
            "15462/15462 [==============================] - 7s 456us/sample - loss: 1.3016 - accuracy: 0.7698\n",
            "Epoch 98/100\n",
            "15462/15462 [==============================] - 7s 446us/sample - loss: 1.2928 - accuracy: 0.7716\n",
            "Epoch 99/100\n",
            "15462/15462 [==============================] - 7s 445us/sample - loss: 1.2836 - accuracy: 0.7725\n",
            "Epoch 100/100\n",
            "15462/15462 [==============================] - 7s 450us/sample - loss: 1.2652 - accuracy: 0.7754\n"
          ],
          "name": "stdout"
        }
      ]
    },
    {
      "cell_type": "code",
      "metadata": {
        "id": "1fXTEO3GJ282",
        "colab_type": "code",
        "colab": {
          "base_uri": "https://localhost:8080/",
          "height": 545
        },
        "outputId": "31ec726b-8350-4929-e421-a1f3333dba97"
      },
      "source": [
        "import matplotlib.pyplot as plt\n",
        "acc = history.history['accuracy']\n",
        "loss = history.history['loss']\n",
        "\n",
        "epochs = range(len(acc))\n",
        "\n",
        "plt.plot(epochs, acc, 'b', label='Training accuracy')\n",
        "plt.title('Training accuracy')\n",
        "\n",
        "plt.figure()\n",
        "\n",
        "plt.plot(epochs, loss, 'b', label='Training Loss')\n",
        "plt.title('Training loss')\n",
        "plt.legend()\n",
        "\n",
        "plt.show()"
      ],
      "execution_count": 16,
      "outputs": [
        {
          "output_type": "display_data",
          "data": {
            "image/png": "[encoded data removed]",
            "text/plain": [
              "<Figure size 432x288 with 1 Axes>"
            ]
          },
          "metadata": {
            "tags": []
          }
        },
        {
          "output_type": "display_data",
          "data": {
            "image/png": "[encoded data removed]",
            "text/plain": [
              "<Figure size 432x288 with 1 Axes>"
            ]
          },
          "metadata": {
            "tags": []
          }
        }
      ]
    },
    {
      "cell_type": "code",
      "metadata": {
        "id": "6Vc6PHgxa6Hm",
        "colab_type": "code",
        "colab": {
          "base_uri": "https://localhost:8080/",
          "height": 55
        },
        "outputId": "5a7973cc-d8e0-4acd-dba7-647d945c7125"
      },
      "source": [
        "seed_text = \"Help me Obi Wan Kenobi, you're my only hope\"\n",
        "next_words = 100\n",
        "  \n",
        "for _ in range(next_words):\n",
        "\ttoken_list = tokenizer.texts_to_sequences([seed_text])[0]\n",
        "\ttoken_list = pad_sequences([token_list], maxlen=max_sequence_len-1, padding='pre')\n",
        "\tpredicted = model.predict_classes(token_list, verbose=0)\n",
        "\toutput_word = \"\"\n",
        "\tfor word, index in tokenizer.word_index.items():\n",
        "\t\tif index == predicted:\n",
        "\t\t\toutput_word = word\n",
        "\t\t\tbreak\n",
        "\tseed_text += \" \" + output_word\n",
        "print(seed_text)"
      ],
      "execution_count": 17,
      "outputs": [
        {
          "output_type": "stream",
          "text": [
            "Help me Obi Wan Kenobi, you're my only hope which yet you fears by strife twain near prove thee new ground place green old die thee again well ere live back blushing glory straight bearing die young pride weeds hate faith back blushing stand quite weeds things wrong rare leaves gone new appetite doth appetite new foes commend twain twain bright eyes parts new due on ill care in men friend well prove die life still green new lie die in me now me find me men tell every glory leaves twain twain glory die none ere thence none after 'tis gone great lease rage age hath every fine\n"
          ],
          "name": "stdout"
        }
      ]
    },
    {
      "cell_type": "code",
      "metadata": {
        "id": "lXqi5tdiu2Ea",
        "colab_type": "code",
        "colab": {}
      },
      "source": [
        ""
      ],
      "execution_count": 0,
      "outputs": []
    }
  ]
}
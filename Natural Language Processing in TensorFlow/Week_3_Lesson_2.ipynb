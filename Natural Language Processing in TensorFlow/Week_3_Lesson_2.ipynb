{
  "nbformat": 4,
  "nbformat_minor": 0,
  "metadata": {
    "colab": {
      "name": "Course 3 - Week 3 - Lesson 2.ipynb",
      "provenance": [],
      "collapsed_sections": [],
      "include_colab_link": true
    },
    "kernelspec": {
      "name": "python3",
      "display_name": "Python 3"
    },
    "accelerator": "GPU"
  },
  "cells": [
    {
      "cell_type": "markdown",
      "metadata": {
        "id": "view-in-github",
        "colab_type": "text"
      },
      "source": [
        "<a href=\"https://colab.research.google.com/github/sergejhorvat/TensorFlow-in-Practice---Coursera/blob/master/Natural%20Language%20Processing%20in%20TensorFlow/Week_3_Lesson_2.ipynb\" target=\"_parent\"><img src=\"https://colab.research.google.com/assets/colab-badge.svg\" alt=\"Open In Colab\"/></a>"
      ]
    },
    {
      "cell_type": "code",
      "metadata": {
        "id": "s5id5_pg_mY3",
        "colab_type": "code",
        "colab": {
          "base_uri": "https://localhost:8080/",
          "height": 680
        },
        "outputId": "5ba29854-525b-4484-f237-a8c114243aa8"
      },
      "source": [
        "!pip install tensorflow-gpu==2.0.0\n",
        "import json\n",
        "import tensorflow as tf\n",
        "import numpy as np\n",
        "\n",
        "from tensorflow.keras.preprocessing.text import Tokenizer\n",
        "from tensorflow.keras.preprocessing.sequence import pad_sequences\n",
        "print(tf.__version__)"
      ],
      "execution_count": 5,
      "outputs": [
        {
          "output_type": "stream",
          "text": [
            "Requirement already satisfied: tensorflow-gpu==2.0.0 in /usr/local/lib/python3.6/dist-packages (2.0.0)\n",
            "Requirement already satisfied: grpcio>=1.8.6 in /usr/local/lib/python3.6/dist-packages (from tensorflow-gpu==2.0.0) (1.15.0)\n",
            "Requirement already satisfied: termcolor>=1.1.0 in /usr/local/lib/python3.6/dist-packages (from tensorflow-gpu==2.0.0) (1.1.0)\n",
            "Requirement already satisfied: tensorflow-estimator<2.1.0,>=2.0.0 in /usr/local/lib/python3.6/dist-packages (from tensorflow-gpu==2.0.0) (2.0.1)\n",
            "Requirement already satisfied: wheel>=0.26 in /usr/local/lib/python3.6/dist-packages (from tensorflow-gpu==2.0.0) (0.33.6)\n",
            "Requirement already satisfied: absl-py>=0.7.0 in /usr/local/lib/python3.6/dist-packages (from tensorflow-gpu==2.0.0) (0.8.1)\n",
            "Requirement already satisfied: astor>=0.6.0 in /usr/local/lib/python3.6/dist-packages (from tensorflow-gpu==2.0.0) (0.8.0)\n",
            "Requirement already satisfied: tensorboard<2.1.0,>=2.0.0 in /usr/local/lib/python3.6/dist-packages (from tensorflow-gpu==2.0.0) (2.0.2)\n",
            "Requirement already satisfied: google-pasta>=0.1.6 in /usr/local/lib/python3.6/dist-packages (from tensorflow-gpu==2.0.0) (0.1.8)\n",
            "Requirement already satisfied: wrapt>=1.11.1 in /usr/local/lib/python3.6/dist-packages (from tensorflow-gpu==2.0.0) (1.11.2)\n",
            "Requirement already satisfied: keras-preprocessing>=1.0.5 in /usr/local/lib/python3.6/dist-packages (from tensorflow-gpu==2.0.0) (1.1.0)\n",
            "Requirement already satisfied: numpy<2.0,>=1.16.0 in /usr/local/lib/python3.6/dist-packages (from tensorflow-gpu==2.0.0) (1.17.4)\n",
            "Requirement already satisfied: opt-einsum>=2.3.2 in /usr/local/lib/python3.6/dist-packages (from tensorflow-gpu==2.0.0) (3.1.0)\n",
            "Requirement already satisfied: gast==0.2.2 in /usr/local/lib/python3.6/dist-packages (from tensorflow-gpu==2.0.0) (0.2.2)\n",
            "Requirement already satisfied: protobuf>=3.6.1 in /usr/local/lib/python3.6/dist-packages (from tensorflow-gpu==2.0.0) (3.10.0)\n",
            "Requirement already satisfied: six>=1.10.0 in /usr/local/lib/python3.6/dist-packages (from tensorflow-gpu==2.0.0) (1.12.0)\n",
            "Requirement already satisfied: keras-applications>=1.0.8 in /usr/local/lib/python3.6/dist-packages (from tensorflow-gpu==2.0.0) (1.0.8)\n",
            "Requirement already satisfied: requests<3,>=2.21.0 in /usr/local/lib/python3.6/dist-packages (from tensorboard<2.1.0,>=2.0.0->tensorflow-gpu==2.0.0) (2.21.0)\n",
            "Requirement already satisfied: setuptools>=41.0.0 in /usr/local/lib/python3.6/dist-packages (from tensorboard<2.1.0,>=2.0.0->tensorflow-gpu==2.0.0) (42.0.2)\n",
            "Requirement already satisfied: werkzeug>=0.11.15 in /usr/local/lib/python3.6/dist-packages (from tensorboard<2.1.0,>=2.0.0->tensorflow-gpu==2.0.0) (0.16.0)\n",
            "Requirement already satisfied: google-auth<2,>=1.6.3 in /usr/local/lib/python3.6/dist-packages (from tensorboard<2.1.0,>=2.0.0->tensorflow-gpu==2.0.0) (1.8.1)\n",
            "Requirement already satisfied: markdown>=2.6.8 in /usr/local/lib/python3.6/dist-packages (from tensorboard<2.1.0,>=2.0.0->tensorflow-gpu==2.0.0) (3.1.1)\n",
            "Requirement already satisfied: google-auth-oauthlib<0.5,>=0.4.1 in /usr/local/lib/python3.6/dist-packages (from tensorboard<2.1.0,>=2.0.0->tensorflow-gpu==2.0.0) (0.4.1)\n",
            "Requirement already satisfied: h5py in /usr/local/lib/python3.6/dist-packages (from keras-applications>=1.0.8->tensorflow-gpu==2.0.0) (2.8.0)\n",
            "Requirement already satisfied: urllib3<1.25,>=1.21.1 in /usr/local/lib/python3.6/dist-packages (from requests<3,>=2.21.0->tensorboard<2.1.0,>=2.0.0->tensorflow-gpu==2.0.0) (1.24.3)\n",
            "Requirement already satisfied: idna<2.9,>=2.5 in /usr/local/lib/python3.6/dist-packages (from requests<3,>=2.21.0->tensorboard<2.1.0,>=2.0.0->tensorflow-gpu==2.0.0) (2.8)\n",
            "Requirement already satisfied: certifi>=2017.4.17 in /usr/local/lib/python3.6/dist-packages (from requests<3,>=2.21.0->tensorboard<2.1.0,>=2.0.0->tensorflow-gpu==2.0.0) (2019.11.28)\n",
            "Requirement already satisfied: chardet<3.1.0,>=3.0.2 in /usr/local/lib/python3.6/dist-packages (from requests<3,>=2.21.0->tensorboard<2.1.0,>=2.0.0->tensorflow-gpu==2.0.0) (3.0.4)\n",
            "Requirement already satisfied: pyasn1-modules>=0.2.1 in /usr/local/lib/python3.6/dist-packages (from google-auth<2,>=1.6.3->tensorboard<2.1.0,>=2.0.0->tensorflow-gpu==2.0.0) (0.2.7)\n",
            "Requirement already satisfied: rsa<4.1,>=3.1.4 in /usr/local/lib/python3.6/dist-packages (from google-auth<2,>=1.6.3->tensorboard<2.1.0,>=2.0.0->tensorflow-gpu==2.0.0) (4.0)\n",
            "Requirement already satisfied: cachetools<3.2,>=2.0.0 in /usr/local/lib/python3.6/dist-packages (from google-auth<2,>=1.6.3->tensorboard<2.1.0,>=2.0.0->tensorflow-gpu==2.0.0) (3.1.1)\n",
            "Requirement already satisfied: requests-oauthlib>=0.7.0 in /usr/local/lib/python3.6/dist-packages (from google-auth-oauthlib<0.5,>=0.4.1->tensorboard<2.1.0,>=2.0.0->tensorflow-gpu==2.0.0) (1.3.0)\n",
            "Requirement already satisfied: pyasn1<0.5.0,>=0.4.6 in /usr/local/lib/python3.6/dist-packages (from pyasn1-modules>=0.2.1->google-auth<2,>=1.6.3->tensorboard<2.1.0,>=2.0.0->tensorflow-gpu==2.0.0) (0.4.8)\n",
            "Requirement already satisfied: oauthlib>=3.0.0 in /usr/local/lib/python3.6/dist-packages (from requests-oauthlib>=0.7.0->google-auth-oauthlib<0.5,>=0.4.1->tensorboard<2.1.0,>=2.0.0->tensorflow-gpu==2.0.0) (3.1.0)\n",
            "2.0.0\n"
          ],
          "name": "stdout"
        }
      ]
    },
    {
      "cell_type": "code",
      "metadata": {
        "id": "jGwXGIXvFhXW",
        "colab_type": "code",
        "colab": {
          "base_uri": "https://localhost:8080/",
          "height": 1000
        },
        "outputId": "f01b3b83-2f98-4c30-c70d-e7f9d2ba63bb"
      },
      "source": [
        "!wget --no-check-certificate \\\n",
        "    https://storage.googleapis.com/laurencemoroney-blog.appspot.com/sarcasm.json \\\n",
        "    -O /tmp/sarcasm.json\n",
        "\n",
        "vocab_size = 1000\n",
        "embedding_dim = 16\n",
        "max_length = 120\n",
        "trunc_type='post'\n",
        "padding_type='post'\n",
        "oov_tok = \"<OOV>\"\n",
        "training_size = 20000\n",
        "\n",
        "\n",
        "with open(\"/tmp/sarcasm.json\", 'r') as f:\n",
        "    datastore = json.load(f)\n",
        "\n",
        "\n",
        "sentences = []\n",
        "labels = []\n",
        "urls = []\n",
        "for item in datastore:\n",
        "    sentences.append(item['headline'])\n",
        "    labels.append(item['is_sarcastic'])\n",
        "\n",
        "training_sentences = sentences[0:training_size]\n",
        "testing_sentences = sentences[training_size:]\n",
        "training_labels = np.array(labels[0:training_size])\n",
        "testing_labels = np.array(labels[training_size:])\n",
        "\n",
        "tokenizer = Tokenizer(num_words=vocab_size, oov_token=oov_tok)\n",
        "tokenizer.fit_on_texts(training_sentences)\n",
        "\n",
        "word_index = tokenizer.word_index\n",
        "\n",
        "training_sequences = tokenizer.texts_to_sequences(training_sentences)\n",
        "training_padded = np.array(pad_sequences(training_sequences, maxlen=max_length, padding=padding_type, truncating=trunc_type))\n",
        "\n",
        "testing_sequences = tokenizer.texts_to_sequences(testing_sentences)\n",
        "testing_padded = np.array(pad_sequences(testing_sequences, maxlen=max_length, padding=padding_type, truncating=trunc_type))\n",
        "\n",
        "model = tf.keras.Sequential([\n",
        "    tf.keras.layers.Embedding(vocab_size, embedding_dim, input_length=max_length),\n",
        "    tf.keras.layers.Bidirectional(tf.keras.layers.LSTM(32)),\n",
        "    tf.keras.layers.Dense(24, activation='relu'),\n",
        "    tf.keras.layers.Dense(1, activation='sigmoid')\n",
        "])\n",
        "model.compile(loss='binary_crossentropy',optimizer='adam',metrics=['accuracy'])\n",
        "model.summary()\n",
        "\n",
        "num_epochs = 50\n",
        "history = model.fit(training_padded, training_labels, epochs=num_epochs, validation_data=(testing_padded, testing_labels), verbose=1)\n",
        "\n"
      ],
      "execution_count": 8,
      "outputs": [
        {
          "output_type": "stream",
          "text": [
            "--2019-12-10 22:52:16--  https://storage.googleapis.com/laurencemoroney-blog.appspot.com/sarcasm.json\n",
            "Resolving storage.googleapis.com (storage.googleapis.com)... 108.177.125.128, 2404:6800:4008:c07::80\n",
            "Connecting to storage.googleapis.com (storage.googleapis.com)|108.177.125.128|:443... connected.\n",
            "HTTP request sent, awaiting response... 200 OK\n",
            "Length: 5643545 (5.4M) [application/json]\n",
            "Saving to: ‘/tmp/sarcasm.json’\n",
            "\n",
            "\r/tmp/sarcasm.json     0%[                    ]       0  --.-KB/s               \r/tmp/sarcasm.json   100%[===================>]   5.38M  --.-KB/s    in 0.03s   \n",
            "\n",
            "2019-12-10 22:52:17 (207 MB/s) - ‘/tmp/sarcasm.json’ saved [5643545/5643545]\n",
            "\n",
            "Model: \"sequential_3\"\n",
            "_________________________________________________________________\n",
            "Layer (type)                 Output Shape              Param #   \n",
            "=================================================================\n",
            "embedding_3 (Embedding)      (None, 120, 16)           16000     \n",
            "_________________________________________________________________\n",
            "bidirectional_3 (Bidirection (None, 64)                12544     \n",
            "_________________________________________________________________\n",
            "dense_6 (Dense)              (None, 24)                1560      \n",
            "_________________________________________________________________\n",
            "dense_7 (Dense)              (None, 1)                 25        \n",
            "=================================================================\n",
            "Total params: 30,129\n",
            "Trainable params: 30,129\n",
            "Non-trainable params: 0\n",
            "_________________________________________________________________\n",
            "Train on 20000 samples, validate on 6709 samples\n",
            "Epoch 1/50\n",
            "20000/20000 [==============================] - 44s 2ms/sample - loss: 0.4570 - accuracy: 0.7695 - val_loss: 0.3827 - val_accuracy: 0.8232\n",
            "Epoch 2/50\n",
            "20000/20000 [==============================] - 37s 2ms/sample - loss: 0.3504 - accuracy: 0.8410 - val_loss: 0.3696 - val_accuracy: 0.8329\n",
            "Epoch 3/50\n",
            "20000/20000 [==============================] - 37s 2ms/sample - loss: 0.3264 - accuracy: 0.8527 - val_loss: 0.3666 - val_accuracy: 0.8346\n",
            "Epoch 4/50\n",
            "20000/20000 [==============================] - 37s 2ms/sample - loss: 0.3100 - accuracy: 0.8616 - val_loss: 0.3686 - val_accuracy: 0.8348\n",
            "Epoch 5/50\n",
            "20000/20000 [==============================] - 37s 2ms/sample - loss: 0.2992 - accuracy: 0.8668 - val_loss: 0.3835 - val_accuracy: 0.8284\n",
            "Epoch 6/50\n",
            "20000/20000 [==============================] - 37s 2ms/sample - loss: 0.2902 - accuracy: 0.8726 - val_loss: 0.3790 - val_accuracy: 0.8322\n",
            "Epoch 7/50\n",
            "20000/20000 [==============================] - 37s 2ms/sample - loss: 0.2817 - accuracy: 0.8766 - val_loss: 0.3768 - val_accuracy: 0.8332\n",
            "Epoch 8/50\n",
            "20000/20000 [==============================] - 37s 2ms/sample - loss: 0.2747 - accuracy: 0.8801 - val_loss: 0.3978 - val_accuracy: 0.8275\n",
            "Epoch 9/50\n",
            "20000/20000 [==============================] - 37s 2ms/sample - loss: 0.2663 - accuracy: 0.8850 - val_loss: 0.3813 - val_accuracy: 0.8319\n",
            "Epoch 10/50\n",
            "20000/20000 [==============================] - 37s 2ms/sample - loss: 0.2612 - accuracy: 0.8863 - val_loss: 0.4126 - val_accuracy: 0.8298\n",
            "Epoch 11/50\n",
            "20000/20000 [==============================] - 37s 2ms/sample - loss: 0.2543 - accuracy: 0.8883 - val_loss: 0.4125 - val_accuracy: 0.8256\n",
            "Epoch 12/50\n",
            "20000/20000 [==============================] - 37s 2ms/sample - loss: 0.2491 - accuracy: 0.8929 - val_loss: 0.4172 - val_accuracy: 0.8258\n",
            "Epoch 13/50\n",
            "20000/20000 [==============================] - 37s 2ms/sample - loss: 0.2413 - accuracy: 0.8964 - val_loss: 0.4341 - val_accuracy: 0.8269\n",
            "Epoch 14/50\n",
            "20000/20000 [==============================] - 37s 2ms/sample - loss: 0.2341 - accuracy: 0.9006 - val_loss: 0.4537 - val_accuracy: 0.8226\n",
            "Epoch 15/50\n",
            "20000/20000 [==============================] - 37s 2ms/sample - loss: 0.2274 - accuracy: 0.9039 - val_loss: 0.4527 - val_accuracy: 0.8214\n",
            "Epoch 16/50\n",
            "20000/20000 [==============================] - 37s 2ms/sample - loss: 0.2216 - accuracy: 0.9061 - val_loss: 0.4564 - val_accuracy: 0.8214\n",
            "Epoch 17/50\n",
            "20000/20000 [==============================] - 37s 2ms/sample - loss: 0.2128 - accuracy: 0.9102 - val_loss: 0.4779 - val_accuracy: 0.8234\n",
            "Epoch 18/50\n",
            "20000/20000 [==============================] - 37s 2ms/sample - loss: 0.2063 - accuracy: 0.9131 - val_loss: 0.5026 - val_accuracy: 0.8199\n",
            "Epoch 19/50\n",
            "20000/20000 [==============================] - 37s 2ms/sample - loss: 0.1980 - accuracy: 0.9168 - val_loss: 0.5350 - val_accuracy: 0.8159\n",
            "Epoch 20/50\n",
            "20000/20000 [==============================] - 37s 2ms/sample - loss: 0.1924 - accuracy: 0.9202 - val_loss: 0.5474 - val_accuracy: 0.8162\n",
            "Epoch 21/50\n",
            "20000/20000 [==============================] - 37s 2ms/sample - loss: 0.1829 - accuracy: 0.9237 - val_loss: 0.5908 - val_accuracy: 0.8159\n",
            "Epoch 22/50\n",
            "20000/20000 [==============================] - 37s 2ms/sample - loss: 0.1763 - accuracy: 0.9265 - val_loss: 0.6078 - val_accuracy: 0.8131\n",
            "Epoch 23/50\n",
            "20000/20000 [==============================] - 37s 2ms/sample - loss: 0.1674 - accuracy: 0.9319 - val_loss: 0.6508 - val_accuracy: 0.8117\n",
            "Epoch 24/50\n",
            "20000/20000 [==============================] - 37s 2ms/sample - loss: 0.1623 - accuracy: 0.9336 - val_loss: 0.6549 - val_accuracy: 0.8098\n",
            "Epoch 25/50\n",
            "20000/20000 [==============================] - 37s 2ms/sample - loss: 0.1549 - accuracy: 0.9356 - val_loss: 0.6673 - val_accuracy: 0.8131\n",
            "Epoch 26/50\n",
            "20000/20000 [==============================] - 37s 2ms/sample - loss: 0.1469 - accuracy: 0.9396 - val_loss: 0.7047 - val_accuracy: 0.8092\n",
            "Epoch 27/50\n",
            "20000/20000 [==============================] - 37s 2ms/sample - loss: 0.1437 - accuracy: 0.9409 - val_loss: 0.7995 - val_accuracy: 0.8083\n",
            "Epoch 28/50\n",
            "20000/20000 [==============================] - 37s 2ms/sample - loss: 0.1371 - accuracy: 0.9448 - val_loss: 0.8144 - val_accuracy: 0.8038\n",
            "Epoch 29/50\n",
            "20000/20000 [==============================] - 37s 2ms/sample - loss: 0.1274 - accuracy: 0.9465 - val_loss: 0.9339 - val_accuracy: 0.7991\n",
            "Epoch 30/50\n",
            "20000/20000 [==============================] - 37s 2ms/sample - loss: 0.1231 - accuracy: 0.9485 - val_loss: 0.8437 - val_accuracy: 0.8052\n",
            "Epoch 31/50\n",
            "20000/20000 [==============================] - 37s 2ms/sample - loss: 0.1183 - accuracy: 0.9524 - val_loss: 0.9554 - val_accuracy: 0.8038\n",
            "Epoch 32/50\n",
            "20000/20000 [==============================] - 37s 2ms/sample - loss: 0.1111 - accuracy: 0.9551 - val_loss: 1.0099 - val_accuracy: 0.8009\n",
            "Epoch 33/50\n",
            "20000/20000 [==============================] - 37s 2ms/sample - loss: 0.1074 - accuracy: 0.9564 - val_loss: 0.9930 - val_accuracy: 0.8006\n",
            "Epoch 34/50\n",
            "20000/20000 [==============================] - 37s 2ms/sample - loss: 0.1056 - accuracy: 0.9557 - val_loss: 1.0299 - val_accuracy: 0.8032\n",
            "Epoch 35/50\n",
            "20000/20000 [==============================] - 37s 2ms/sample - loss: 0.0982 - accuracy: 0.9590 - val_loss: 1.1237 - val_accuracy: 0.7988\n",
            "Epoch 36/50\n",
            "20000/20000 [==============================] - 37s 2ms/sample - loss: 0.0960 - accuracy: 0.9599 - val_loss: 1.1650 - val_accuracy: 0.8001\n",
            "Epoch 37/50\n",
            "20000/20000 [==============================] - 37s 2ms/sample - loss: 0.0905 - accuracy: 0.9620 - val_loss: 1.1903 - val_accuracy: 0.8016\n",
            "Epoch 38/50\n",
            "20000/20000 [==============================] - 37s 2ms/sample - loss: 0.0890 - accuracy: 0.9633 - val_loss: 1.2550 - val_accuracy: 0.7953\n",
            "Epoch 39/50\n",
            "20000/20000 [==============================] - 37s 2ms/sample - loss: 0.0837 - accuracy: 0.9649 - val_loss: 1.3516 - val_accuracy: 0.7983\n",
            "Epoch 40/50\n",
            "20000/20000 [==============================] - 37s 2ms/sample - loss: 0.0828 - accuracy: 0.9653 - val_loss: 1.3401 - val_accuracy: 0.7937\n",
            "Epoch 41/50\n",
            "20000/20000 [==============================] - 37s 2ms/sample - loss: 0.0727 - accuracy: 0.9700 - val_loss: 1.4100 - val_accuracy: 0.7961\n",
            "Epoch 42/50\n",
            "20000/20000 [==============================] - 37s 2ms/sample - loss: 0.0788 - accuracy: 0.9663 - val_loss: 1.4480 - val_accuracy: 0.8047\n",
            "Epoch 43/50\n",
            "20000/20000 [==============================] - 37s 2ms/sample - loss: 0.0741 - accuracy: 0.9685 - val_loss: 1.4789 - val_accuracy: 0.7994\n",
            "Epoch 44/50\n",
            "20000/20000 [==============================] - 37s 2ms/sample - loss: 0.0657 - accuracy: 0.9718 - val_loss: 1.5984 - val_accuracy: 0.7945\n",
            "Epoch 45/50\n",
            "20000/20000 [==============================] - 37s 2ms/sample - loss: 0.0650 - accuracy: 0.9726 - val_loss: 1.6379 - val_accuracy: 0.7940\n",
            "Epoch 46/50\n",
            "20000/20000 [==============================] - 37s 2ms/sample - loss: 0.0632 - accuracy: 0.9718 - val_loss: 1.6818 - val_accuracy: 0.7910\n",
            "Epoch 47/50\n",
            "20000/20000 [==============================] - 37s 2ms/sample - loss: 0.0656 - accuracy: 0.9716 - val_loss: 1.6461 - val_accuracy: 0.7982\n",
            "Epoch 48/50\n",
            "20000/20000 [==============================] - 37s 2ms/sample - loss: 0.0594 - accuracy: 0.9737 - val_loss: 1.6653 - val_accuracy: 0.7888\n",
            "Epoch 49/50\n",
            "20000/20000 [==============================] - 37s 2ms/sample - loss: 0.0597 - accuracy: 0.9741 - val_loss: 1.7347 - val_accuracy: 0.7936\n",
            "Epoch 50/50\n",
            "20000/20000 [==============================] - 37s 2ms/sample - loss: 0.0553 - accuracy: 0.9758 - val_loss: 1.7745 - val_accuracy: 0.7979\n"
          ],
          "name": "stdout"
        }
      ]
    },
    {
      "cell_type": "code",
      "metadata": {
        "id": "g9DC6dmLF8DC",
        "colab_type": "code",
        "colab": {
          "base_uri": "https://localhost:8080/",
          "height": 541
        },
        "outputId": "5470414e-45c8-4c46-ef85-58e322bb48c3"
      },
      "source": [
        "import matplotlib.pyplot as plt\n",
        "\n",
        "\n",
        "def plot_graphs(history, string):\n",
        "  plt.plot(history.history[string])\n",
        "  plt.plot(history.history['val_'+string])\n",
        "  plt.xlabel(\"Epochs\")\n",
        "  plt.ylabel(string)\n",
        "  plt.legend([string, 'val_'+string])\n",
        "  plt.show()\n",
        "\n",
        "plot_graphs(history, 'accuracy')\n",
        "plot_graphs(history, 'loss')"
      ],
      "execution_count": 10,
      "outputs": [
        {
          "output_type": "display_data",
          "data": {
            "image/png": "[encoded data removed]",
            "text/plain": [
              "<Figure size 432x288 with 1 Axes>"
            ]
          },
          "metadata": {
            "tags": []
          }
        },
        {
          "output_type": "display_data",
          "data": {
            "image/png": "[encoded data removed]",
            "text/plain": [
              "<Figure size 432x288 with 1 Axes>"
            ]
          },
          "metadata": {
            "tags": []
          }
        }
      ]
    },
    {
      "cell_type": "code",
      "metadata": {
        "id": "7ZEZIUppGhdi",
        "colab_type": "code",
        "colab": {}
      },
      "source": [
        "model.save(\"test.h5\")"
      ],
      "execution_count": 0,
      "outputs": []
    },
    {
      "cell_type": "code",
      "metadata": {
        "id": "SXAFAHEzIGOs",
        "colab_type": "code",
        "colab": {}
      },
      "source": [
        ""
      ],
      "execution_count": 0,
      "outputs": []
    }
  ]
}
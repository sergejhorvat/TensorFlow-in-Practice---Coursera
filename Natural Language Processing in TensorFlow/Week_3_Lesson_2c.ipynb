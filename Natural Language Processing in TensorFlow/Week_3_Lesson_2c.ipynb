{
  "nbformat": 4,
  "nbformat_minor": 0,
  "metadata": {
    "colab": {
      "name": "Course 3 - Week 3 - Lesson 2c.ipynb",
      "provenance": [],
      "collapsed_sections": [],
      "include_colab_link": true
    },
    "kernelspec": {
      "name": "python3",
      "display_name": "Python 3"
    },
    "accelerator": "GPU"
  },
  "cells": [
    {
      "cell_type": "markdown",
      "metadata": {
        "id": "view-in-github",
        "colab_type": "text"
      },
      "source": [
        "<a href=\"https://colab.research.google.com/github/sergejhorvat/TensorFlow-in-Practice---Coursera/blob/master/Natural%20Language%20Processing%20in%20TensorFlow/Week_3_Lesson_2c.ipynb\" target=\"_parent\"><img src=\"https://colab.research.google.com/assets/colab-badge.svg\" alt=\"Open In Colab\"/></a>"
      ]
    },
    {
      "cell_type": "code",
      "metadata": {
        "id": "Nw8wJPjLBuEh",
        "colab_type": "code",
        "colab": {
          "base_uri": "https://localhost:8080/",
          "height": 680
        },
        "outputId": "92ffad45-c234-4cbd-f928-1d3001ff709d"
      },
      "source": [
        "!pip install tensorflow-gpu==2.0.0\n",
        "import json\n",
        "import tensorflow as tf\n",
        "import numpy as np\n",
        "\n",
        "from tensorflow.keras.preprocessing.text import Tokenizer\n",
        "from tensorflow.keras.preprocessing.sequence import pad_sequences\n",
        "print(tf.__version__)"
      ],
      "execution_count": 1,
      "outputs": [
        {
          "output_type": "stream",
          "text": [
            "Requirement already satisfied: tensorflow-gpu==2.0.0 in /usr/local/lib/python3.6/dist-packages (2.0.0)\n",
            "Requirement already satisfied: gast==0.2.2 in /usr/local/lib/python3.6/dist-packages (from tensorflow-gpu==2.0.0) (0.2.2)\n",
            "Requirement already satisfied: tensorboard<2.1.0,>=2.0.0 in /usr/local/lib/python3.6/dist-packages (from tensorflow-gpu==2.0.0) (2.0.2)\n",
            "Requirement already satisfied: wrapt>=1.11.1 in /usr/local/lib/python3.6/dist-packages (from tensorflow-gpu==2.0.0) (1.11.2)\n",
            "Requirement already satisfied: tensorflow-estimator<2.1.0,>=2.0.0 in /usr/local/lib/python3.6/dist-packages (from tensorflow-gpu==2.0.0) (2.0.1)\n",
            "Requirement already satisfied: protobuf>=3.6.1 in /usr/local/lib/python3.6/dist-packages (from tensorflow-gpu==2.0.0) (3.10.0)\n",
            "Requirement already satisfied: grpcio>=1.8.6 in /usr/local/lib/python3.6/dist-packages (from tensorflow-gpu==2.0.0) (1.15.0)\n",
            "Requirement already satisfied: opt-einsum>=2.3.2 in /usr/local/lib/python3.6/dist-packages (from tensorflow-gpu==2.0.0) (3.1.0)\n",
            "Requirement already satisfied: keras-applications>=1.0.8 in /usr/local/lib/python3.6/dist-packages (from tensorflow-gpu==2.0.0) (1.0.8)\n",
            "Requirement already satisfied: keras-preprocessing>=1.0.5 in /usr/local/lib/python3.6/dist-packages (from tensorflow-gpu==2.0.0) (1.1.0)\n",
            "Requirement already satisfied: numpy<2.0,>=1.16.0 in /usr/local/lib/python3.6/dist-packages (from tensorflow-gpu==2.0.0) (1.17.4)\n",
            "Requirement already satisfied: astor>=0.6.0 in /usr/local/lib/python3.6/dist-packages (from tensorflow-gpu==2.0.0) (0.8.0)\n",
            "Requirement already satisfied: google-pasta>=0.1.6 in /usr/local/lib/python3.6/dist-packages (from tensorflow-gpu==2.0.0) (0.1.8)\n",
            "Requirement already satisfied: wheel>=0.26 in /usr/local/lib/python3.6/dist-packages (from tensorflow-gpu==2.0.0) (0.33.6)\n",
            "Requirement already satisfied: absl-py>=0.7.0 in /usr/local/lib/python3.6/dist-packages (from tensorflow-gpu==2.0.0) (0.8.1)\n",
            "Requirement already satisfied: termcolor>=1.1.0 in /usr/local/lib/python3.6/dist-packages (from tensorflow-gpu==2.0.0) (1.1.0)\n",
            "Requirement already satisfied: six>=1.10.0 in /usr/local/lib/python3.6/dist-packages (from tensorflow-gpu==2.0.0) (1.12.0)\n",
            "Requirement already satisfied: werkzeug>=0.11.15 in /usr/local/lib/python3.6/dist-packages (from tensorboard<2.1.0,>=2.0.0->tensorflow-gpu==2.0.0) (0.16.0)\n",
            "Requirement already satisfied: google-auth<2,>=1.6.3 in /usr/local/lib/python3.6/dist-packages (from tensorboard<2.1.0,>=2.0.0->tensorflow-gpu==2.0.0) (1.8.1)\n",
            "Requirement already satisfied: markdown>=2.6.8 in /usr/local/lib/python3.6/dist-packages (from tensorboard<2.1.0,>=2.0.0->tensorflow-gpu==2.0.0) (3.1.1)\n",
            "Requirement already satisfied: requests<3,>=2.21.0 in /usr/local/lib/python3.6/dist-packages (from tensorboard<2.1.0,>=2.0.0->tensorflow-gpu==2.0.0) (2.21.0)\n",
            "Requirement already satisfied: setuptools>=41.0.0 in /usr/local/lib/python3.6/dist-packages (from tensorboard<2.1.0,>=2.0.0->tensorflow-gpu==2.0.0) (42.0.2)\n",
            "Requirement already satisfied: google-auth-oauthlib<0.5,>=0.4.1 in /usr/local/lib/python3.6/dist-packages (from tensorboard<2.1.0,>=2.0.0->tensorflow-gpu==2.0.0) (0.4.1)\n",
            "Requirement already satisfied: h5py in /usr/local/lib/python3.6/dist-packages (from keras-applications>=1.0.8->tensorflow-gpu==2.0.0) (2.8.0)\n",
            "Requirement already satisfied: pyasn1-modules>=0.2.1 in /usr/local/lib/python3.6/dist-packages (from google-auth<2,>=1.6.3->tensorboard<2.1.0,>=2.0.0->tensorflow-gpu==2.0.0) (0.2.7)\n",
            "Requirement already satisfied: cachetools<3.2,>=2.0.0 in /usr/local/lib/python3.6/dist-packages (from google-auth<2,>=1.6.3->tensorboard<2.1.0,>=2.0.0->tensorflow-gpu==2.0.0) (3.1.1)\n",
            "Requirement already satisfied: rsa<4.1,>=3.1.4 in /usr/local/lib/python3.6/dist-packages (from google-auth<2,>=1.6.3->tensorboard<2.1.0,>=2.0.0->tensorflow-gpu==2.0.0) (4.0)\n",
            "Requirement already satisfied: chardet<3.1.0,>=3.0.2 in /usr/local/lib/python3.6/dist-packages (from requests<3,>=2.21.0->tensorboard<2.1.0,>=2.0.0->tensorflow-gpu==2.0.0) (3.0.4)\n",
            "Requirement already satisfied: urllib3<1.25,>=1.21.1 in /usr/local/lib/python3.6/dist-packages (from requests<3,>=2.21.0->tensorboard<2.1.0,>=2.0.0->tensorflow-gpu==2.0.0) (1.24.3)\n",
            "Requirement already satisfied: idna<2.9,>=2.5 in /usr/local/lib/python3.6/dist-packages (from requests<3,>=2.21.0->tensorboard<2.1.0,>=2.0.0->tensorflow-gpu==2.0.0) (2.8)\n",
            "Requirement already satisfied: certifi>=2017.4.17 in /usr/local/lib/python3.6/dist-packages (from requests<3,>=2.21.0->tensorboard<2.1.0,>=2.0.0->tensorflow-gpu==2.0.0) (2019.11.28)\n",
            "Requirement already satisfied: requests-oauthlib>=0.7.0 in /usr/local/lib/python3.6/dist-packages (from google-auth-oauthlib<0.5,>=0.4.1->tensorboard<2.1.0,>=2.0.0->tensorflow-gpu==2.0.0) (1.3.0)\n",
            "Requirement already satisfied: pyasn1<0.5.0,>=0.4.6 in /usr/local/lib/python3.6/dist-packages (from pyasn1-modules>=0.2.1->google-auth<2,>=1.6.3->tensorboard<2.1.0,>=2.0.0->tensorflow-gpu==2.0.0) (0.4.8)\n",
            "Requirement already satisfied: oauthlib>=3.0.0 in /usr/local/lib/python3.6/dist-packages (from requests-oauthlib>=0.7.0->google-auth-oauthlib<0.5,>=0.4.1->tensorboard<2.1.0,>=2.0.0->tensorflow-gpu==2.0.0) (3.1.0)\n",
            "2.0.0\n"
          ],
          "name": "stdout"
        }
      ]
    },
    {
      "cell_type": "code",
      "metadata": {
        "id": "jGwXGIXvFhXW",
        "colab_type": "code",
        "colab": {
          "base_uri": "https://localhost:8080/",
          "height": 1000
        },
        "outputId": "0746ad3b-9310-402c-d99c-679d938aada2"
      },
      "source": [
        "import json\n",
        "import tensorflow as tf\n",
        "\n",
        "from tensorflow.keras.preprocessing.text import Tokenizer\n",
        "from tensorflow.keras.preprocessing.sequence import pad_sequences\n",
        "\n",
        "!wget --no-check-certificate \\\n",
        "    https://storage.googleapis.com/laurencemoroney-blog.appspot.com/sarcasm.json \\\n",
        "    -O /tmp/sarcasm.json\n",
        "\n",
        "vocab_size = 1000\n",
        "embedding_dim = 16\n",
        "max_length = 120\n",
        "trunc_type='post'\n",
        "padding_type='post'\n",
        "oov_tok = \"<OOV>\"\n",
        "training_size = 20000\n",
        "\n",
        "\n",
        "with open(\"/tmp/sarcasm.json\", 'r') as f:\n",
        "    datastore = json.load(f)\n",
        "\n",
        "\n",
        "sentences = []\n",
        "labels = []\n",
        "urls = []\n",
        "for item in datastore:\n",
        "    sentences.append(item['headline'])\n",
        "    labels.append(item['is_sarcastic'])\n",
        "\n",
        "training_sentences = sentences[0:training_size]\n",
        "testing_sentences = sentences[training_size:]\n",
        "training_labels = np.array(labels[0:training_size])\n",
        "testing_labels = np.array(labels[training_size:])\n",
        "\n",
        "tokenizer = Tokenizer(num_words=vocab_size, oov_token=oov_tok)\n",
        "tokenizer.fit_on_texts(training_sentences)\n",
        "\n",
        "word_index = tokenizer.word_index\n",
        "\n",
        "training_sequences = tokenizer.texts_to_sequences(training_sentences)\n",
        "training_padded = np.array(pad_sequences(training_sequences, maxlen=max_length, padding=padding_type, truncating=trunc_type))\n",
        "\n",
        "testing_sequences = tokenizer.texts_to_sequences(testing_sentences)\n",
        "testing_padded = np.array(pad_sequences(testing_sequences, maxlen=max_length, padding=padding_type, truncating=trunc_type))\n",
        "\n",
        "model = tf.keras.Sequential([\n",
        "    tf.keras.layers.Embedding(vocab_size, embedding_dim, input_length=max_length),\n",
        "    tf.keras.layers.Conv1D(128, 5, activation='relu'),\n",
        "    tf.keras.layers.GlobalMaxPooling1D(),\n",
        "    tf.keras.layers.Dense(24, activation='relu'),\n",
        "    tf.keras.layers.Dense(1, activation='sigmoid')\n",
        "])\n",
        "model.compile(loss='binary_crossentropy',optimizer='adam',metrics=['accuracy'])\n",
        "model.summary()\n",
        "\n",
        "num_epochs = 50\n",
        "history = model.fit(training_padded, training_labels, epochs=num_epochs, validation_data=(testing_padded, testing_labels), verbose=1)\n",
        "\n"
      ],
      "execution_count": 2,
      "outputs": [
        {
          "output_type": "stream",
          "text": [
            "--2019-12-10 22:58:10--  https://storage.googleapis.com/laurencemoroney-blog.appspot.com/sarcasm.json\n",
            "Resolving storage.googleapis.com (storage.googleapis.com)... 74.125.142.128, 2607:f8b0:400e:c07::80\n",
            "Connecting to storage.googleapis.com (storage.googleapis.com)|74.125.142.128|:443... connected.\n",
            "HTTP request sent, awaiting response... 200 OK\n",
            "Length: 5643545 (5.4M) [application/json]\n",
            "Saving to: ‘/tmp/sarcasm.json’\n",
            "\n",
            "\r/tmp/sarcasm.json     0%[                    ]       0  --.-KB/s               \r/tmp/sarcasm.json   100%[===================>]   5.38M  --.-KB/s    in 0.07s   \n",
            "\n",
            "2019-12-10 22:58:10 (80.0 MB/s) - ‘/tmp/sarcasm.json’ saved [5643545/5643545]\n",
            "\n",
            "Model: \"sequential\"\n",
            "_________________________________________________________________\n",
            "Layer (type)                 Output Shape              Param #   \n",
            "=================================================================\n",
            "embedding (Embedding)        (None, 120, 16)           16000     \n",
            "_________________________________________________________________\n",
            "conv1d (Conv1D)              (None, 116, 128)          10368     \n",
            "_________________________________________________________________\n",
            "global_max_pooling1d (Global (None, 128)               0         \n",
            "_________________________________________________________________\n",
            "dense (Dense)                (None, 24)                3096      \n",
            "_________________________________________________________________\n",
            "dense_1 (Dense)              (None, 1)                 25        \n",
            "=================================================================\n",
            "Total params: 29,489\n",
            "Trainable params: 29,489\n",
            "Non-trainable params: 0\n",
            "_________________________________________________________________\n",
            "Train on 20000 samples, validate on 6709 samples\n",
            "Epoch 1/50\n",
            "20000/20000 [==============================] - 6s 315us/sample - loss: 0.4733 - accuracy: 0.7589 - val_loss: 0.4120 - val_accuracy: 0.8155\n",
            "Epoch 2/50\n",
            "20000/20000 [==============================] - 4s 187us/sample - loss: 0.3578 - accuracy: 0.8414 - val_loss: 0.3936 - val_accuracy: 0.8205\n",
            "Epoch 3/50\n",
            "20000/20000 [==============================] - 4s 185us/sample - loss: 0.3202 - accuracy: 0.8576 - val_loss: 0.3892 - val_accuracy: 0.8277\n",
            "Epoch 4/50\n",
            "20000/20000 [==============================] - 4s 185us/sample - loss: 0.2901 - accuracy: 0.8756 - val_loss: 0.3968 - val_accuracy: 0.8250\n",
            "Epoch 5/50\n",
            "20000/20000 [==============================] - 4s 187us/sample - loss: 0.2576 - accuracy: 0.8889 - val_loss: 0.4153 - val_accuracy: 0.8219\n",
            "Epoch 6/50\n",
            "20000/20000 [==============================] - 4s 185us/sample - loss: 0.2237 - accuracy: 0.9079 - val_loss: 0.4493 - val_accuracy: 0.8208\n",
            "Epoch 7/50\n",
            "20000/20000 [==============================] - 4s 186us/sample - loss: 0.1937 - accuracy: 0.9215 - val_loss: 0.4884 - val_accuracy: 0.8165\n",
            "Epoch 8/50\n",
            "20000/20000 [==============================] - 4s 188us/sample - loss: 0.1635 - accuracy: 0.9357 - val_loss: 0.5425 - val_accuracy: 0.8134\n",
            "Epoch 9/50\n",
            "20000/20000 [==============================] - 4s 186us/sample - loss: 0.1331 - accuracy: 0.9510 - val_loss: 0.6222 - val_accuracy: 0.8083\n",
            "Epoch 10/50\n",
            "20000/20000 [==============================] - 4s 187us/sample - loss: 0.1086 - accuracy: 0.9599 - val_loss: 0.6910 - val_accuracy: 0.8071\n",
            "Epoch 11/50\n",
            "20000/20000 [==============================] - 4s 186us/sample - loss: 0.0895 - accuracy: 0.9674 - val_loss: 0.7490 - val_accuracy: 0.8027\n",
            "Epoch 12/50\n",
            "20000/20000 [==============================] - 4s 182us/sample - loss: 0.0730 - accuracy: 0.9751 - val_loss: 0.8372 - val_accuracy: 0.7967\n",
            "Epoch 13/50\n",
            "20000/20000 [==============================] - 4s 189us/sample - loss: 0.0671 - accuracy: 0.9747 - val_loss: 0.9462 - val_accuracy: 0.7955\n",
            "Epoch 14/50\n",
            "20000/20000 [==============================] - 4s 185us/sample - loss: 0.0582 - accuracy: 0.9787 - val_loss: 0.9961 - val_accuracy: 0.8007\n",
            "Epoch 15/50\n",
            "20000/20000 [==============================] - 4s 187us/sample - loss: 0.0499 - accuracy: 0.9819 - val_loss: 1.0845 - val_accuracy: 0.7942\n",
            "Epoch 16/50\n",
            "20000/20000 [==============================] - 4s 188us/sample - loss: 0.0458 - accuracy: 0.9829 - val_loss: 1.1313 - val_accuracy: 0.7970\n",
            "Epoch 17/50\n",
            "20000/20000 [==============================] - 4s 187us/sample - loss: 0.0457 - accuracy: 0.9825 - val_loss: 1.2150 - val_accuracy: 0.7906\n",
            "Epoch 18/50\n",
            "20000/20000 [==============================] - 4s 187us/sample - loss: 0.0416 - accuracy: 0.9840 - val_loss: 1.2511 - val_accuracy: 0.7974\n",
            "Epoch 19/50\n",
            "20000/20000 [==============================] - 4s 189us/sample - loss: 0.0377 - accuracy: 0.9854 - val_loss: 1.3092 - val_accuracy: 0.7934\n",
            "Epoch 20/50\n",
            "20000/20000 [==============================] - 4s 186us/sample - loss: 0.0357 - accuracy: 0.9862 - val_loss: 1.3650 - val_accuracy: 0.7880\n",
            "Epoch 21/50\n",
            "20000/20000 [==============================] - 4s 187us/sample - loss: 0.0366 - accuracy: 0.9859 - val_loss: 1.4376 - val_accuracy: 0.7949\n",
            "Epoch 22/50\n",
            "20000/20000 [==============================] - 4s 190us/sample - loss: 0.0293 - accuracy: 0.9887 - val_loss: 1.5454 - val_accuracy: 0.7898\n",
            "Epoch 23/50\n",
            "20000/20000 [==============================] - 4s 188us/sample - loss: 0.0270 - accuracy: 0.9893 - val_loss: 1.6545 - val_accuracy: 0.7951\n",
            "Epoch 24/50\n",
            "20000/20000 [==============================] - 4s 185us/sample - loss: 0.0321 - accuracy: 0.9874 - val_loss: 1.6239 - val_accuracy: 0.7839\n",
            "Epoch 25/50\n",
            "20000/20000 [==============================] - 4s 195us/sample - loss: 0.0319 - accuracy: 0.9863 - val_loss: 1.7188 - val_accuracy: 0.7854\n",
            "Epoch 26/50\n",
            "20000/20000 [==============================] - 4s 194us/sample - loss: 0.0298 - accuracy: 0.9869 - val_loss: 1.7143 - val_accuracy: 0.7894\n",
            "Epoch 27/50\n",
            "20000/20000 [==============================] - 4s 194us/sample - loss: 0.0294 - accuracy: 0.9875 - val_loss: 1.7872 - val_accuracy: 0.7895\n",
            "Epoch 28/50\n",
            "20000/20000 [==============================] - 4s 187us/sample - loss: 0.0278 - accuracy: 0.9886 - val_loss: 1.8944 - val_accuracy: 0.7851\n",
            "Epoch 29/50\n",
            "20000/20000 [==============================] - 4s 188us/sample - loss: 0.0278 - accuracy: 0.9888 - val_loss: 1.9844 - val_accuracy: 0.7921\n",
            "Epoch 30/50\n",
            "20000/20000 [==============================] - 4s 187us/sample - loss: 0.0262 - accuracy: 0.9886 - val_loss: 1.9608 - val_accuracy: 0.7930\n",
            "Epoch 31/50\n",
            "20000/20000 [==============================] - 4s 186us/sample - loss: 0.0294 - accuracy: 0.9877 - val_loss: 2.0636 - val_accuracy: 0.7880\n",
            "Epoch 32/50\n",
            "20000/20000 [==============================] - 4s 188us/sample - loss: 0.0232 - accuracy: 0.9909 - val_loss: 2.0579 - val_accuracy: 0.7861\n",
            "Epoch 33/50\n",
            "20000/20000 [==============================] - 4s 187us/sample - loss: 0.0242 - accuracy: 0.9901 - val_loss: 2.0701 - val_accuracy: 0.7961\n",
            "Epoch 34/50\n",
            "20000/20000 [==============================] - 4s 185us/sample - loss: 0.0211 - accuracy: 0.9918 - val_loss: 2.0643 - val_accuracy: 0.7840\n",
            "Epoch 35/50\n",
            "20000/20000 [==============================] - 4s 188us/sample - loss: 0.0218 - accuracy: 0.9912 - val_loss: 2.1838 - val_accuracy: 0.7843\n",
            "Epoch 36/50\n",
            "20000/20000 [==============================] - 4s 185us/sample - loss: 0.0232 - accuracy: 0.9895 - val_loss: 2.1344 - val_accuracy: 0.7925\n",
            "Epoch 37/50\n",
            "20000/20000 [==============================] - 4s 187us/sample - loss: 0.0296 - accuracy: 0.9876 - val_loss: 2.1383 - val_accuracy: 0.7864\n",
            "Epoch 38/50\n",
            "20000/20000 [==============================] - 4s 187us/sample - loss: 0.0250 - accuracy: 0.9898 - val_loss: 2.0969 - val_accuracy: 0.7921\n",
            "Epoch 39/50\n",
            "20000/20000 [==============================] - 4s 183us/sample - loss: 0.0200 - accuracy: 0.9909 - val_loss: 2.2502 - val_accuracy: 0.7855\n",
            "Epoch 40/50\n",
            "20000/20000 [==============================] - 4s 185us/sample - loss: 0.0184 - accuracy: 0.9920 - val_loss: 2.2508 - val_accuracy: 0.7913\n",
            "Epoch 41/50\n",
            "20000/20000 [==============================] - 4s 187us/sample - loss: 0.0194 - accuracy: 0.9915 - val_loss: 2.3128 - val_accuracy: 0.7933\n",
            "Epoch 42/50\n",
            "20000/20000 [==============================] - 4s 186us/sample - loss: 0.0227 - accuracy: 0.9904 - val_loss: 2.2741 - val_accuracy: 0.7922\n",
            "Epoch 43/50\n",
            "20000/20000 [==============================] - 4s 184us/sample - loss: 0.0245 - accuracy: 0.9895 - val_loss: 2.3901 - val_accuracy: 0.7843\n",
            "Epoch 44/50\n",
            "20000/20000 [==============================] - 4s 187us/sample - loss: 0.0200 - accuracy: 0.9908 - val_loss: 2.4904 - val_accuracy: 0.7907\n",
            "Epoch 45/50\n",
            "20000/20000 [==============================] - 4s 188us/sample - loss: 0.0187 - accuracy: 0.9917 - val_loss: 2.3688 - val_accuracy: 0.7946\n",
            "Epoch 46/50\n",
            "20000/20000 [==============================] - 4s 188us/sample - loss: 0.0250 - accuracy: 0.9890 - val_loss: 2.3882 - val_accuracy: 0.7925\n",
            "Epoch 47/50\n",
            "20000/20000 [==============================] - 4s 189us/sample - loss: 0.0245 - accuracy: 0.9901 - val_loss: 2.3979 - val_accuracy: 0.7904\n",
            "Epoch 48/50\n",
            "20000/20000 [==============================] - 4s 187us/sample - loss: 0.0210 - accuracy: 0.9906 - val_loss: 2.5562 - val_accuracy: 0.7876\n",
            "Epoch 49/50\n",
            "20000/20000 [==============================] - 4s 185us/sample - loss: 0.0166 - accuracy: 0.9926 - val_loss: 2.6469 - val_accuracy: 0.7909\n",
            "Epoch 50/50\n",
            "20000/20000 [==============================] - 4s 187us/sample - loss: 0.0179 - accuracy: 0.9920 - val_loss: 2.5805 - val_accuracy: 0.7839\n"
          ],
          "name": "stdout"
        }
      ]
    },
    {
      "cell_type": "code",
      "metadata": {
        "id": "g9DC6dmLF8DC",
        "colab_type": "code",
        "colab": {
          "base_uri": "https://localhost:8080/",
          "height": 542
        },
        "outputId": "b7c03780-7f2a-4589-d2fc-14d18355a1cb"
      },
      "source": [
        "import matplotlib.pyplot as plt\n",
        "\n",
        "\n",
        "def plot_graphs(history, string):\n",
        "  plt.plot(history.history[string])\n",
        "  plt.plot(history.history['val_'+string])\n",
        "  plt.xlabel(\"Epochs\")\n",
        "  plt.ylabel(string)\n",
        "  plt.legend([string, 'val_'+string])\n",
        "  plt.show()\n",
        "\n",
        "plot_graphs(history, 'accuracy')\n",
        "plot_graphs(history, 'loss')"
      ],
      "execution_count": 4,
      "outputs": [
        {
          "output_type": "display_data",
          "data": {
            "image/png": "[encoded data removed]",
            "text/plain": [
              "<Figure size 432x288 with 1 Axes>"
            ]
          },
          "metadata": {
            "tags": []
          }
        },
        {
          "output_type": "display_data",
          "data": {
            "image/png": "[encoded data removed]",
            "text/plain": [
              "<Figure size 432x288 with 1 Axes>"
            ]
          },
          "metadata": {
            "tags": []
          }
        }
      ]
    },
    {
      "cell_type": "code",
      "metadata": {
        "id": "7ZEZIUppGhdi",
        "colab_type": "code",
        "colab": {}
      },
      "source": [
        "model.save(\"test.h5\")"
      ],
      "execution_count": 0,
      "outputs": []
    },
    {
      "cell_type": "code",
      "metadata": {
        "id": "CpVSWumKDDlk",
        "colab_type": "code",
        "colab": {}
      },
      "source": [
        ""
      ],
      "execution_count": 0,
      "outputs": []
    }
  ]
}